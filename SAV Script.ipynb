{
 "cells": [
  {
   "cell_type": "code",
   "execution_count": 30,
   "id": "4ba42298",
   "metadata": {},
   "outputs": [],
   "source": [
    "import pandas as pd\n",
    "import numpy as np\n",
    "import seaborn as sns"
   ]
  },
  {
   "cell_type": "code",
   "execution_count": 31,
   "id": "fbd573f8",
   "metadata": {},
   "outputs": [
    {
     "name": "stderr",
     "output_type": "stream",
     "text": [
      "C:\\Users\\Hill_T\\AppData\\Local\\Temp\\ipykernel_21636\\1126649852.py:2: DtypeWarning: Columns (17,23) have mixed types. Specify dtype option on import or set low_memory=False.\n",
      "  SAV = pd.read_csv(file, sep='|',na_values=['NULL','','NA'])\n"
     ]
    }
   ],
   "source": [
    "file = 'SAV/data/All_SAV_Parameters-2023-Jun-05.txt'\n",
    "SAV = pd.read_csv(file, sep='|',na_values=['NULL','','NA'])"
   ]
  },
  {
   "cell_type": "code",
   "execution_count": 32,
   "id": "078a536d",
   "metadata": {},
   "outputs": [
    {
     "data": {
      "text/plain": [
       "(4666535, 28)"
      ]
     },
     "execution_count": 32,
     "metadata": {},
     "output_type": "execute_result"
    }
   ],
   "source": [
    "SAV.shape"
   ]
  },
  {
   "cell_type": "code",
   "execution_count": 33,
   "id": "c0082fe5",
   "metadata": {},
   "outputs": [],
   "source": [
    "SAV['BB'] = SAV[SAV.ParameterName=='Braun Blanquet Score']['ResultValue']\n",
    "SAV['mBB'] = SAV[SAV.ParameterName=='Modified Braun Blanquet Score']['ResultValue']\n",
    "SAV['PC'] = SAV[SAV.ParameterName=='Percent Cover']['ResultValue']\n",
    "SAV['PO'] = SAV[SAV.ParameterName=='Percent Occurrence']['ResultValue']\n",
    "SAV['SC'] = SAV[SAV.ParameterName=='Shoot Count']['ResultValue']\n",
    "SAV['PA'] = SAV[SAV.ParameterName=='Presence/Absence']['ResultValue']"
   ]
  },
  {
   "cell_type": "code",
   "execution_count": 34,
   "id": "07d1ce24",
   "metadata": {},
   "outputs": [
    {
     "name": "stderr",
     "output_type": "stream",
     "text": [
      "C:\\Users\\Hill_T\\AppData\\Local\\Temp\\ipykernel_21636\\2792964719.py:1: SettingWithCopyWarning: \n",
      "A value is trying to be set on a copy of a slice from a DataFrame.\n",
      "Try using .loc[row_indexer,col_indexer] = value instead\n",
      "\n",
      "See the caveats in the documentation: https://pandas.pydata.org/pandas-docs/stable/user_guide/indexing.html#returning-a-view-versus-a-copy\n",
      "  SAV[SAV.CommonIdentifier=='Total_SAV'].CommonIdentifier = 'Total SAV'\n"
     ]
    }
   ],
   "source": [
    "SAV[SAV.CommonIdentifier=='Total_SAV'].CommonIdentifier = 'Total SAV'\n",
    "SAV_sum = SAV.groupby('ManagedAreaName').agg(n_yr=('Year', lambda x: len(np.unique(x))), yrs=('Year', lambda x: sorted(np.unique(x).tolist()))).reset_index()"
   ]
  },
  {
   "cell_type": "code",
   "execution_count": 35,
   "id": "6f56120e",
   "metadata": {},
   "outputs": [
    {
     "data": {
      "text/plain": [
       "(29, 3)"
      ]
     },
     "execution_count": 35,
     "metadata": {},
     "output_type": "execute_result"
    }
   ],
   "source": [
    "SAV_sum.shape"
   ]
  },
  {
   "cell_type": "code",
   "execution_count": 36,
   "id": "35b93c1f",
   "metadata": {},
   "outputs": [],
   "source": [
    "SAV2 = SAV[(~pd.isna(SAV['BB'])) | (~pd.isna(SAV['mBB'])) | (~pd.isna(SAV['PC'])) | (~pd.isna(SAV['PO']))]\n",
    "\n",
    "SAV2 = SAV2[(SAV2['BB'] >= 0) & (SAV2['BB'] <= 5) | pd.isna(SAV2['BB'])]\n",
    "SAV2 = SAV2[(SAV2['mBB'] >= 0) & (SAV2['mBB'] <= 5) | pd.isna(SAV2['mBB'])]\n",
    "SAV2 = SAV2[(SAV2['PC'] >= 0) & (SAV2['PC'] <= 100) | pd.isna(SAV2['PC'])]\n",
    "SAV2 = SAV2[(SAV2['PO'] >= 0) & (SAV2['PO'] <= 100) | pd.isna(SAV2['PO'])]\n",
    "SAV2 = SAV2[SAV2['Month'].isin(list(range(4, 11)))]"
   ]
  },
  {
   "cell_type": "code",
   "execution_count": 37,
   "id": "ccbe8d3d",
   "metadata": {},
   "outputs": [
    {
     "data": {
      "text/plain": [
       "(2074132, 34)"
      ]
     },
     "execution_count": 37,
     "metadata": {},
     "output_type": "execute_result"
    }
   ],
   "source": [
    "SAV2.shape"
   ]
  },
  {
   "cell_type": "code",
   "execution_count": 38,
   "id": "013bbab6",
   "metadata": {},
   "outputs": [],
   "source": [
    "SAV2['BB_all'] = np.nan"
   ]
  },
  {
   "cell_type": "code",
   "execution_count": 39,
   "id": "a7fac14b",
   "metadata": {},
   "outputs": [],
   "source": [
    "SAV2.loc[~SAV2['BB'].isna(),'BB_all'] = np.select(\n",
    "    [(SAV2[~SAV2['BB'].isna()]['BB'] == 0),(SAV2[~SAV2['BB'].isna()]['BB'] > 0) & (SAV2[~SAV2['BB'].isna()]['BB'] <= 1),(SAV2[~SAV2['BB'].isna()]['BB'] > 1)], \n",
    "    [0, 1, np.round(SAV2[~SAV2['BB'].isna()]['BB'])]\n",
    ")\n",
    "\n",
    "SAV2.loc[~SAV2['mBB'].isna(), 'BB_all'] = np.select(\n",
    "    [(SAV2[~SAV2['mBB'].isna()]['mBB']==0),\n",
    "        (SAV2[~SAV2['mBB'].isna()]['mBB'] > 0) & (SAV2[~SAV2['mBB'].isna()]['mBB'] <= 1),\n",
    "        (SAV2[~SAV2['mBB'].isna()]['mBB'] > 1)],\n",
    "    [0, 1, np.round(SAV2[~SAV2['mBB'].isna()]['mBB'])]\n",
    ")\n",
    "\n",
    "pc_na = SAV2.loc[~SAV2['PC'].isna()]['PC']\n",
    "pc_conditions = [\n",
    "    (pc_na==0),\n",
    "    ((pc_na > 0)&(pc_na <= (2.5+(15-2.5)/2))),\n",
    "    (pc_na <= (2.5+(15-2.5)+(37.5-15)/2)),\n",
    "    (pc_na <= (2.5+(15-2.5)+(37.5-15)+(62.5-37.5)/2)),\n",
    "    (pc_na <= (2.5+(15-2.5)+(37.5-15)+(62.5-37.5)+(87.5-62.5)/2)),\n",
    "    (pc_na > (2.5+(15-2.5)+(37.5-15)+(62.5-37.5)+(87.5-62.5)/2))\n",
    "]\n",
    "SAV2.loc[~SAV2['PC'].isna(), 'BB_all'] = np.select(pc_conditions,[0, 1, 2, 3, 4, 5])"
   ]
  },
  {
   "cell_type": "code",
   "execution_count": 40,
   "id": "9c1cd06d",
   "metadata": {},
   "outputs": [
    {
     "data": {
      "text/plain": [
       "(2074132, 35)"
      ]
     },
     "execution_count": 40,
     "metadata": {},
     "output_type": "execute_result"
    }
   ],
   "source": [
    "SAV2.shape"
   ]
  },
  {
   "cell_type": "code",
   "execution_count": 41,
   "id": "329f682b",
   "metadata": {},
   "outputs": [],
   "source": [
    "bb_all_na = SAV2.loc[~SAV2['BB_all'].isna()]\n",
    "SAV2.loc[~SAV2['BB_all'].isna(), 'BB_pct'] = np.select(\n",
    "    [\n",
    "        bb_all_na['BB_all'] == 0,\n",
    "        (bb_all_na['BB_all'] > 0) & (bb_all_na['BB_all'] <= 0.1),\n",
    "        (bb_all_na['BB_all'] > 0.1) & (bb_all_na['BB_all'] <= 0.5),\n",
    "        (bb_all_na['BB_all'] > 0.5) & (bb_all_na['BB_all'] <= 1),\n",
    "        (bb_all_na['BB_all'] > 1) & (bb_all_na['BB_all'] <= 2),\n",
    "        (bb_all_na['BB_all'] > 2) & (bb_all_na['BB_all'] <= 3),\n",
    "        (bb_all_na['BB_all'] > 3) & (bb_all_na['BB_all'] <= 4),\n",
    "        (bb_all_na['BB_all'] > 4) & (bb_all_na['BB_all'] <= 5)\n",
    "    ],\n",
    "    [\n",
    "        0,\n",
    "        np.interp(bb_all_na['BB_all'], [0, 0.1], [0, 0.02]),\n",
    "        np.interp(bb_all_na['BB_all'], [0.1, 0.5], [0.02, 0.1]),\n",
    "        np.interp(bb_all_na['BB_all'], [0.5, 1], [0.1, 2.5]),\n",
    "        np.interp(bb_all_na['BB_all'], [1, 2], [2.5, 15]),\n",
    "        np.interp(bb_all_na['BB_all'], [2, 3], [15, 37.5]),\n",
    "        np.interp(bb_all_na['BB_all'], [3, 4], [37.5, 62.5]),\n",
    "        np.interp(bb_all_na['BB_all'], [4, 5], [62.5, 87.5])\n",
    "    ],\n",
    "    default=np.nan\n",
    ")\n",
    "\n",
    "SAV2['BB_pct'] = SAV2['BB_pct'].astype(float)\n",
    "SAV2['BB_all'] = pd.Categorical(SAV2['BB_all'])\n",
    "\n",
    "SAV2.loc[~SAV2['PO'].isna(), 'method'] = \"Percent Occurrence\"\n",
    "SAV2.loc[~SAV2['BB'].isna(), 'method'] = \"Braun Blanquet\"\n",
    "SAV2.loc[~SAV2['mBB'].isna(), 'method'] = \"Modified Braun Blanquet\"\n",
    "SAV2.loc[~SAV2['PC'].isna(), 'method'] = \"Percent Cover\""
   ]
  },
  {
   "cell_type": "code",
   "execution_count": 42,
   "id": "29df34d9",
   "metadata": {},
   "outputs": [],
   "source": [
    "# Update PA where BB_all is not NA\n",
    "SAV2.loc[~SAV2['BB_all'].isna(), 'PA'] = np.where(SAV2.loc[~SAV2['BB_all'].isna()]['BB_all'] == 0, 0, 1)\n",
    "\n",
    "# Update PA where PO is not NA\n",
    "SAV2.loc[~SAV2['PO'].isna(), 'PA'] = np.where(SAV2.loc[~SAV2['PO'].isna()]['PO'] == 0, 0, 1)\n",
    "\n",
    "# Calculate relyear\n",
    "SAV2['relyear'] = SAV2['Year'] - SAV2['Year'].min()"
   ]
  },
  {
   "cell_type": "code",
   "execution_count": 43,
   "id": "1a48e987",
   "metadata": {},
   "outputs": [],
   "source": [
    "# Filter SAV2 for SpeciesGroup1 values \"Seagrass\" or \"Macroalgae\"\n",
    "SAV3 = SAV2[SAV2['SpeciesGroup1'].isin(['Seagrass', 'Macroalgae'])].copy()"
   ]
  },
  {
   "cell_type": "code",
   "execution_count": 44,
   "id": "b1ff6a0b",
   "metadata": {},
   "outputs": [],
   "source": [
    "# Temporary fix for ProgramID values 570 and 571\n",
    "SAV3.loc[(SAV3['CommonIdentifier'] == 'Total SAV'), 'CommonIdentifier'] = 'Total seagrass'\n",
    "\n",
    "# Temporary fix for records with CommonIdentifier as \"Drift algae\"\n",
    "SAV3.loc[SAV3['CommonIdentifier'] == 'Drift algae', 'Drift_Attached'] = 'Drift'"
   ]
  },
  {
   "cell_type": "code",
   "execution_count": 45,
   "id": "af52bb02",
   "metadata": {},
   "outputs": [],
   "source": [
    "SAV3.CommonIdentifier = SAV3.CommonIdentifier.astype(str)"
   ]
  },
  {
   "cell_type": "code",
   "execution_count": 46,
   "id": "803e59fc",
   "metadata": {},
   "outputs": [],
   "source": [
    "species_reject = [\"All\", \"NA\",\n",
    "                  \"Vallisneria americana\", \"Najas guadalupensis\",\n",
    "                  \"Hydrilla verticillata\", \"Potamogeton pusillus\",\n",
    "                  \"Zannichellia palustris\"]"
   ]
  },
  {
   "cell_type": "code",
   "execution_count": 47,
   "id": "cf4041cb",
   "metadata": {},
   "outputs": [],
   "source": [
    "# Update the 'analysisunit_halid' column based on conditions\n",
    "SAV3['analysisunit_halid'] = (\n",
    "    SAV3['CommonIdentifier']\n",
    "    .where(~SAV3['CommonIdentifier'].isin(species_reject), np.nan)\n",
    "    .where(~(SAV3['CommonIdentifier'].str.contains('Halophila') & SAV3['SpeciesName'].isna()), \"Unidentified Halophila\")\n",
    "    .where(SAV3['SpeciesGroup1'] == \"Seagrass\", SAV3['Drift_Attached'])\n",
    ")\n",
    "\n",
    "# Update the 'analysisunit' column based on conditions\n",
    "SAV3['analysisunit'] = (\n",
    "    SAV3['CommonIdentifier']\n",
    "    .where(~SAV3['CommonIdentifier'].isin(species_reject), np.nan)\n",
    "    .where(~SAV3['CommonIdentifier'].str.contains('Halophila'), \"Halophila spp.\")\n",
    "    .where(SAV3['SpeciesGroup1'] == \"Seagrass\", SAV3['Drift_Attached'])\n",
    ")\n",
    "\n",
    "# Update analysisunit_halid and analysisunit columns for records with Drift_Attached not NA\n",
    "SAV3.loc[~SAV3['Drift_Attached'].isna(), 'analysisunit_halid'] = SAV3.loc[~SAV3['Drift_Attached'].isna(), 'analysisunit_halid'] + ' algae'\n",
    "SAV3.loc[~SAV3['Drift_Attached'].isna(), 'analysisunit'] = SAV3.loc[~SAV3['Drift_Attached'].isna(), 'analysisunit'] + ' algae'"
   ]
  },
  {
   "cell_type": "code",
   "execution_count": 48,
   "id": "463b635f",
   "metadata": {},
   "outputs": [
    {
     "data": {
      "text/plain": [
       "(950857, 40)"
      ]
     },
     "execution_count": 48,
     "metadata": {},
     "output_type": "execute_result"
    }
   ],
   "source": [
    "# Remove rows with NA in analysisunit column\n",
    "SAV4 = SAV3[~SAV3['analysisunit'].isna()].copy()\n",
    "\n",
    "# Optionally, if you want to reset the index of the filtered DataFrame\n",
    "SAV4.shape"
   ]
  },
  {
   "cell_type": "code",
   "execution_count": 49,
   "id": "9d2717d8",
   "metadata": {},
   "outputs": [],
   "source": [
    "# Save SAV4 as RDS file / pickle\n",
    "# SAV4.to_pickle(\"SAV/output/SAV_DataUsed.pkl\")\n",
    "\n",
    "# Save SAV4 as CSV file\n",
    "SAV4.to_csv(\"SAV/output/SAV_DataUsed.txt\", sep='|', index=False)"
   ]
  },
  {
   "cell_type": "code",
   "execution_count": 20,
   "id": "4c68a28c",
   "metadata": {},
   "outputs": [],
   "source": [
    "# Calculate SAV4_sum by grouping method and ManagedAreaName\n",
    "SAV4_sum = SAV4.groupby(['method', 'ManagedAreaName']).agg(n_yr=('Year', lambda x: len(np.unique(x))),\n",
    "                                                          yrs=('Year', lambda x: sorted(np.unique(x)))).reset_index()"
   ]
  },
  {
   "cell_type": "code",
   "execution_count": 29,
   "id": "df385039",
   "metadata": {
    "scrolled": true
   },
   "outputs": [
    {
     "data": {
      "text/plain": [
       "analysisunit\n",
       "Halodule wrightii        34.604396\n",
       "Halophila spp.            0.443223\n",
       "Ruppia maritima           0.000000\n",
       "Syringodium filiforme    18.010989\n",
       "Thalassia testudinum     21.725275\n",
       "Name: ResultValue, dtype: float64"
      ]
     },
     "execution_count": 29,
     "metadata": {},
     "output_type": "execute_result"
    }
   ],
   "source": [
    "SAV4[(SAV4.ManagedAreaName=='Indian River-Vero Beach to Ft. Pierce')&(SAV4.Year==1994)&(SAV4.method=='Percent Occurrence')&(SAV4.analysisunit!='Drift algae')].groupby(['analysisunit'])['ResultValue'].mean()"
   ]
  },
  {
   "cell_type": "markdown",
   "id": "79c5c548",
   "metadata": {},
   "source": [
    "### PLOTTING ###"
   ]
  },
  {
   "cell_type": "code",
   "execution_count": 22,
   "id": "9b1c6254",
   "metadata": {},
   "outputs": [],
   "source": [
    "import matplotlib.pyplot as plt\n",
    "\n",
    "def addfits_blacktrendlines(models, plot_i, param):\n",
    "    aucol = plot_i.data.columns[0]\n",
    "    if len(models) == 1:\n",
    "        i = plot_i.data.iloc[0]['ManagedAreaName']\n",
    "        filtered_data = SAV4[(SAV4['ManagedAreaName'] == i) & (~SAV4[param].isna()) & (SAV4[aucol] == models[0].data[aucol].unique())]\n",
    "        plot_i += plt.geom_line(data=filtered_data,\n",
    "                                mapping=plt.aes(x='relyear', y=models[0].predict(level=0)),\n",
    "                                color='#000099', size=0.75, alpha=0.7, inherit_aes=False)\n",
    "        return plot_i"
   ]
  },
  {
   "cell_type": "code",
   "execution_count": 23,
   "id": "93ea3b52",
   "metadata": {},
   "outputs": [],
   "source": [
    "EDA = \"plots\"\n",
    "Analyses = ['BB_pct','PA']"
   ]
  },
  {
   "cell_type": "code",
   "execution_count": 219,
   "id": "74ed5f81",
   "metadata": {},
   "outputs": [],
   "source": [
    "# Empty DataFrame to store names of any failed models\n",
    "failedmods = pd.DataFrame(columns=[\"model\", \"error\"])\n",
    "\n",
    "# Create a table of the proportion of present SAV types by managed area and year\n",
    "props_halid = (SAV4[~SAV4['analysisunit_halid'].str.contains(r'Total|Drift|spp\\.', na=False) & ~SAV4['PA'].isna()]\n",
    "              .groupby(['ManagedAreaName', 'analysisunit_halid', 'relyear'])\n",
    "              .agg(n_P=('PA', 'sum'), ntot_PA=('PA', 'count'))\n",
    "              .assign(prop_P=lambda x: x['n_P'] / x['ntot_PA']))\n",
    "\n",
    "props = (SAV4[~SAV4['analysisunit'].str.contains(r'Total|Drift|decipiens|engelmannii|johnsonii|Unidentified', na=False) & ~SAV4['PA'].isna()]\n",
    "         .groupby(['ManagedAreaName', 'analysisunit', 'relyear'])\n",
    "         .agg(n_P=('PA', 'sum'), ntot_PA=('PA', 'count'))\n",
    "         .assign(prop_P=lambda x: x['n_P'] / x['ntot_PA']))\n",
    "\n",
    "props_halid.reset_index(inplace=True)\n",
    "props.reset_index(inplace=True)\n",
    "\n",
    "props_halid['n_allsp_P'] = props_halid.groupby(['ManagedAreaName', 'relyear'])['n_P'].transform('sum')\n",
    "props_halid['sp_prop'] = props_halid['n_P'] / props_halid['n_allsp_P']\n",
    "props_halid['sp_pct'] = props_halid['sp_prop'] * 100\n",
    "\n",
    "props['n_allsp_P'] = props.groupby(['ManagedAreaName', 'relyear'])['n_P'].transform('sum')\n",
    "props['sp_prop'] = props['n_P'] / props['n_allsp_P']\n",
    "props['sp_pct'] = props['sp_prop'] * 100\n",
    "\n",
    "props_halid = props_halid.rename(columns={'analysisunit_halid': 'analysisunit'})\n",
    "props2 = pd.concat([props_halid, props]).drop_duplicates()\n",
    "props2.sort_values(by=['ManagedAreaName', 'relyear', 'analysisunit'], inplace=True)\n",
    "props = props2.copy()\n",
    "\n",
    "props.to_csv(\"SAV/output/props.txt\", sep='|', index=False)"
   ]
  },
  {
   "cell_type": "code",
   "execution_count": 26,
   "id": "6e47e27e",
   "metadata": {},
   "outputs": [],
   "source": [
    "spcollist=[\"#005396\",\"#0088B1\",\"#00ADAE\",\"#65CCB3\",\"#AEE4C1\",\"#FDEBA8\",\"#F8CD6D\",\"#F5A800\",\"#F17B00\"]"
   ]
  },
  {
   "cell_type": "code",
   "execution_count": 27,
   "id": "a79afced",
   "metadata": {},
   "outputs": [],
   "source": [
    "spp = [\"Halodule wrightii\", \"Halophila decipiens\", \"Halophila engelmannii\", \"Halophila johnsonii\", \n",
    "         \"Halophila spp.\", \"Ruppia maritima\", \"Syringodium filiforme\", \"Thalassia testudinum\", \"Attached algae\"]\n",
    "\n",
    "spp_common = [\"Halophila spp.\", \"Johnson's seagrass\", \"Manatee grass\", \"Paddle grass\", \n",
    "                \"Shoal grass\", \"Star grass\", \"Turtle grass\", \"Widgeon grass\", \"Attached algae\"]"
   ]
  },
  {
   "cell_type": "code",
   "execution_count": 30,
   "id": "4c22369a",
   "metadata": {},
   "outputs": [
    {
     "data": {
      "text/plain": [
       "{'Halophila spp.': '#005396',\n",
       " \"Johnson's seagrass\": '#0088B1',\n",
       " 'Manatee grass': '#00ADAE',\n",
       " 'Paddle grass': '#65CCB3',\n",
       " 'Shoal grass': '#AEE4C1',\n",
       " 'Star grass': '#FDEBA8',\n",
       " 'Turtle grass': '#F8CD6D',\n",
       " 'Widgeon grass': '#F5A800',\n",
       " 'Attached algae': '#F17B00'}"
      ]
     },
     "execution_count": 30,
     "metadata": {},
     "output_type": "execute_result"
    }
   ],
   "source": [
    "usenames = \"common\"  # alternative is \"scientific\"\n",
    "spcols = {}\n",
    "if usenames == \"common\":\n",
    "    spcols = dict(zip(spp_common, spcollist))\n",
    "else:\n",
    "    spcols = dict(zip(spp, spcollist))\n",
    "spcols"
   ]
  },
  {
   "cell_type": "code",
   "execution_count": 31,
   "id": "d0bfb973",
   "metadata": {},
   "outputs": [],
   "source": [
    "# Add color for \"Unidentified Halophila\"\n",
    "# spindet_nm = [\"Unidentified Halophila\"]\n",
    "# spindet_cl = spcols[\"Halophila spp.\"]\n",
    "# spindet = dict(zip(spindet_nm, [spindet_cl]))\n",
    "# spcols.update(spindet)"
   ]
  },
  {
   "cell_type": "code",
   "execution_count": 32,
   "id": "d9c414af",
   "metadata": {},
   "outputs": [],
   "source": [
    "# Common names\n",
    "common_names = {\n",
    "    \"Thalassia testudinum\": \"Turtle grass\",\n",
    "    \"Syringodium filiforme\": \"Manatee grass\",\n",
    "    \"Halodule wrightii\": \"Shoal grass\",\n",
    "    \"Ruppia maritima\": \"Widgeon grass\",\n",
    "    \"Halophila decipiens\": \"Paddle grass\",\n",
    "    \"Halophila engelmannii\": \"Star grass\",\n",
    "    \"Halophila johnsonii\": \"Johnson's seagrass\",\n",
    "    \"Unidentified Halophila\": \"Unidentified Halophila\",\n",
    "    \"Halophila spp.\": \"Halophila spp.\",\n",
    "    \"Total seagrass\": \"Total seagrass\",\n",
    "    \"Attached algae\": \"Attached algae\",\n",
    "    \"Drift algae\": \"Drift algae\",\n",
    "    \"Total_SAV\": \"Total SAV\"\n",
    "}"
   ]
  },
  {
   "cell_type": "code",
   "execution_count": 52,
   "id": "e7327a98",
   "metadata": {},
   "outputs": [],
   "source": [
    "# Apply the replacements to 'analysisunit_halid' and 'analysisunit' columns in 'SAV4' DataFrame\n",
    "if usenames == \"common\":\n",
    "    SAV4['analysisunit_halid'] = SAV4['analysisunit_halid'].replace(common_names)\n",
    "    SAV4['analysisunit'] = SAV4['analysisunit'].replace(common_names)\n",
    "\n",
    "# Apply the replacements to 'analysisunit' column in 'props' DataFrame\n",
    "props['analysisunit'] = props['analysisunit'].replace(common_names)\n",
    "\n",
    "## Convert the 'analysisunit' column in 'props' DataFrame to a categorical variable with specific levels\n",
    "# if usenames == \"common\":\n",
    "#     category_levels = [\n",
    "#         \"Unidentified Halophila\", \"Halophila spp.\", \"Johnson's seagrass\", \"Manatee grass\",\n",
    "#         \"Paddle grass\", \"Shoal grass\", \"Star grass\", \"Turtle grass\", \"Widgeon grass\",\n",
    "#         \"Attached algae\"\n",
    "#     ]\n",
    "#     props['analysisunit'] = pd.Categorical(props['analysisunit'], categories=category_levels)\n",
    "\n",
    "# Optionally, if you want to reset the index of the DataFrames\n",
    "SAV4.reset_index(drop=True, inplace=True)\n",
    "props.reset_index(drop=True, inplace=True)"
   ]
  },
  {
   "cell_type": "code",
   "execution_count": 53,
   "id": "79c9c3f6",
   "metadata": {},
   "outputs": [],
   "source": [
    "# # Define the specific levels for the factor 'analysisunit' if usenames is not \"common\"\n",
    "# if usenames != \"common\":\n",
    "#     category_levels = [\n",
    "#         \"Halodule wrightii\", \"Halophila decipiens\", \"Halophila engelmannii\", \"Halophila johnsonii\",\n",
    "#         \"Unidentified Halophila\", \"Halophila spp.\", \"Ruppia maritima\", \"Syringodium filiforme\",\n",
    "#         \"Thalassia testudinum\", \"Attached algae\"\n",
    "#     ]\n",
    "#     props['analysisunit'] = pd.Categorical(props['analysisunit'], categories=category_levels)\n",
    "\n",
    "# # Optionally, if you want to reset the index of the 'props' DataFrame\n",
    "# props.reset_index(drop=True, inplace=True)"
   ]
  },
  {
   "cell_type": "code",
   "execution_count": 54,
   "id": "5958e671",
   "metadata": {},
   "outputs": [],
   "source": [
    "# Generate color palettes 'prcollist_a' and 'prcollist_b'\n",
    "prcollist_a = sns.color_palette(\"YlOrRd\", n_colors=len(SAV4['ProgramName'].unique())).as_hex()\n",
    "prcollist_b = sns.color_palette(\"YlGnBu\", n_colors=len(SAV4['ProgramName'].unique())).as_hex()\n",
    "\n",
    "# Combine the palettes 'prcollist_a' and 'prcollist_b' into 'prcollist'\n",
    "prcollist = np.concatenate((prcollist_a[::2], prcollist_b[1::2][::-1]))\n",
    "\n",
    "# Sample and sort unique values from the 'ProgramName' column in 'SAV4'\n",
    "np.random.seed(4691)\n",
    "progs = np.sort(SAV4['ProgramName'].unique())\n",
    "# Note: We use numpy random functions for random sampling in Python\n",
    "\n",
    "# Create a dictionary to map the sampled 'progs' to their corresponding colors in 'prcollist'\n",
    "prcols = dict(zip(progs, prcollist))"
   ]
  },
  {
   "cell_type": "code",
   "execution_count": 55,
   "id": "21459836",
   "metadata": {
    "scrolled": true
   },
   "outputs": [],
   "source": [
    "parameters = pd.DataFrame({\n",
    "    'column': ['BB_all', 'BB_pct', 'PC', 'PO', 'PA'],\n",
    "    'name': ['Braun Blanquet score', 'Median percent cover', 'Visual percent cover', 'Percent occurrence', 'Frequency of occurrence'],\n",
    "    'type': ['BBall', 'BBpct', 'PC', 'PO', 'PA']\n",
    "})"
   ]
  },
  {
   "cell_type": "code",
   "execution_count": 56,
   "id": "484b9ddb",
   "metadata": {},
   "outputs": [],
   "source": [
    "import matplotlib.pyplot as plt\n",
    "import matplotlib.font_manager as fm\n",
    "\n",
    "plot_theme = plt.rcParams.copy()\n",
    "plot_theme.update({\n",
    "    'axes.grid': False,\n",
    "    'font.family': 'Arial',\n",
    "    'axes.titlesize': 12,\n",
    "    'axes.titleweight': 'bold',\n",
    "    'axes.labelsize': 10,\n",
    "    'legend.title_fontsize': 10,\n",
    "    'legend.fontsize': 10,\n",
    "    'xtick.labelsize': 10,\n",
    "    'ytick.labelsize': 10,\n",
    "    'xtick.major.pad': 5,\n",
    "    'ytick.major.pad': 0,\n",
    "    'xtick.alignment': 'center'\n",
    "})\n",
    "\n",
    "plt.rcParams.update(plot_theme)"
   ]
  },
  {
   "cell_type": "code",
   "execution_count": 57,
   "id": "3261b859",
   "metadata": {},
   "outputs": [],
   "source": [
    "#Managed areas that should have Halophila species combined:\n",
    "ma_halspp = [\"Banana River\", \"Indian River-Malabar to Vero Beach\", \"Indian River-Vero Beach to Ft. Pierce\", \"Jensen Beach to Jupiter Inlet\",\n",
    "             \"Loxahatchee River-Lake Worth Creek\", \"Mosquito Lagoon\", \"Biscayne Bay\", \"Florida Keys NMS\"]"
   ]
  },
  {
   "cell_type": "code",
   "execution_count": 58,
   "id": "e79fafc7",
   "metadata": {},
   "outputs": [],
   "source": [
    "SAV4.ProgramID = SAV4.ProgramID.astype(str)"
   ]
  },
  {
   "cell_type": "code",
   "execution_count": 59,
   "id": "56b718de",
   "metadata": {},
   "outputs": [],
   "source": [
    "filtered_SAV4 = SAV4[SAV4['ManagedAreaName'].isin(ma_halspp)].copy()\n",
    "\n",
    "# Group by 'ManagedAreaName' and 'analysisunit' and compute the summary statistics\n",
    "stats_pct = filtered_SAV4.groupby(['ManagedAreaName', 'analysisunit']).agg(\n",
    "    ParameterName=(\"ParameterName\", lambda x: \"Median percent cover (from BB scores)\"),\n",
    "    N_Programs=(\"ProgramID\", lambda x: len(x.unique())),\n",
    "    Programs=(\"ProgramName\", lambda x: ', '.join(sorted(x.unique()))),\n",
    "    ProgramIDs=(\"ProgramID\", lambda x: ', '.join(sorted(x.unique()))),\n",
    "    N_Data=(\"BB_pct\", lambda x: x.count()),\n",
    "    N_Years=(\"Year\", lambda x: len(x[~x.isna()].unique())),\n",
    "    EarliestYear=(\"Year\", lambda x: x.min()),\n",
    "    LatestYear=(\"Year\", lambda x: x.max())\n",
    ").reset_index()\n",
    "\n",
    "stats_pct['SufficientData'] = np.where((stats_pct.N_Data>0)&(stats_pct.N_Years>=5), True, False)"
   ]
  },
  {
   "cell_type": "code",
   "execution_count": 60,
   "id": "293da0d7",
   "metadata": {},
   "outputs": [],
   "source": [
    "filtered_SAV4_2 = SAV4[~SAV4.ManagedAreaName.isin(ma_halspp)].copy()\n",
    "\n",
    "# Group by 'ManagedAreaName' and 'analysisunit_halid' and compute the summary statistics\n",
    "stats_pct2 = filtered_SAV4_2.groupby(['ManagedAreaName', 'analysisunit_halid']).agg(\n",
    "    ParameterName=(\"ParameterName\", lambda x: \"Median percent cover (from BB scores)\"),\n",
    "    N_Programs=(\"ProgramID\", lambda x: len(x.unique())),\n",
    "    Programs=(\"ProgramName\", lambda x: ', '.join(sorted(x.unique()))),\n",
    "    ProgramIDs=(\"ProgramID\", lambda x: ', '.join(sorted(x.unique()))),\n",
    "    N_Data=(\"BB_pct\", lambda x: x.count()),\n",
    "    N_Years=(\"Year\", lambda x: len(x[~x.isna()].unique()) if x.count() > 0 else 0),\n",
    "    EarliestYear=(\"Year\", lambda x: x.min()),\n",
    "    LatestYear=(\"Year\", lambda x: x.max()),\n",
    ").reset_index()\n",
    "\n",
    "stats_pct2['SufficientData'] = np.where((stats_pct2.N_Data>0)&(stats_pct2.N_Years>=5), True, False)"
   ]
  },
  {
   "cell_type": "code",
   "execution_count": 61,
   "id": "fd7d8a87",
   "metadata": {},
   "outputs": [],
   "source": [
    "# Rename the column \"analysisunit_halid\" to \"analysisunit\" in 'stats_pct2'\n",
    "stats_pct2.rename(columns={'analysisunit_halid': 'analysisunit'}, inplace=True)\n",
    "\n",
    "# Combine the distinct rows of 'stats_pct' and 'stats_pct2'\n",
    "stats_pct = pd.concat([stats_pct, stats_pct2]).drop_duplicates()\n",
    "\n",
    "# For rows in 'stats_pct' where 'N_Years' is equal to 0, replace the values of \"EarliestYear\" and \"LatestYear\" with NaN\n",
    "stats_pct.loc[stats_pct['N_Years'] == 0, ['EarliestYear', 'LatestYear']] = pd.NaT\n",
    "\n",
    "# Write the 'stats_pct' DataFrame to a text file using '|' as the separator\n",
    "stats_pct.to_csv(\"SAV/output/SAV_BBpct_Stats.txt\", sep=\"|\", index=False)"
   ]
  },
  {
   "cell_type": "code",
   "execution_count": 62,
   "id": "b74cceba",
   "metadata": {},
   "outputs": [],
   "source": [
    "# Filter the 'SAV4' DataFrame to include only the managed areas in 'ma_halspp'\n",
    "filtered_stats_pa = SAV4[SAV4['ManagedAreaName'].isin(ma_halspp)].copy()\n",
    "\n",
    "# Remove rows with missing values in the 'PA' and 'Year' columns\n",
    "filtered_stats_pa = filtered_stats_pa.dropna(subset=['PA', 'Year'])\n",
    "\n",
    "# Group by 'ManagedAreaName' and 'analysisunit' and compute the summary statistics for 'stats_pa'\n",
    "stats_pa = filtered_stats_pa.groupby(['ManagedAreaName', 'analysisunit']).agg(\n",
    "    ParameterName=(\"ParameterName\", lambda x: \"Frequency of occurrence\"),\n",
    "    N_Programs=(\"ProgramID\", lambda x: len(x.unique())),\n",
    "    Programs=(\"ProgramName\", lambda x: ', '.join(sorted(x.unique()))),\n",
    "    ProgramIDs=(\"ProgramID\", lambda x: ', '.join(sorted(x.unique()))),\n",
    "    N_Data=(\"PA\", lambda x: x.count()),\n",
    "    N_Years=(\"Year\", lambda x: len(x[~x.isna()].unique()) if x.count() > 0 else 0),\n",
    "    EarliestYear=(\"Year\", lambda x: x.min()),\n",
    "    LatestYear=(\"Year\", lambda x: x.max()),\n",
    ").reset_index()\n",
    "\n",
    "# Convert the 'SufficientData' column to boolean values (True/False)\n",
    "stats_pa['SufficientData'] = np.where((stats_pa.N_Data>0)&(stats_pa.N_Years>=5), True, False)\n",
    "stats_pa['SufficientData'] = stats_pa['SufficientData'].astype(bool)\n",
    "\n",
    "# Filter the 'SAV4' DataFrame to include only the managed areas not in 'ma_halspp'\n",
    "filtered_stats_pa2 = SAV4[~SAV4['ManagedAreaName'].isin(ma_halspp)].copy()\n",
    "\n",
    "# Remove rows with missing values in the 'PA' and 'Year' columns\n",
    "filtered_stats_pa2 = filtered_stats_pa2.dropna(subset=['PA', 'Year'])\n",
    "\n",
    "# Group by 'ManagedAreaName' and 'analysisunit_halid' and compute the summary statistics for 'stats_pa2'\n",
    "stats_pa2 = filtered_stats_pa2.groupby(['ManagedAreaName', 'analysisunit_halid']).agg(\n",
    "    ParameterName=(\"ParameterName\", lambda x: \"Frequency of occurrence\"),\n",
    "    N_Programs=(\"ProgramID\", lambda x: len(x.unique())),\n",
    "    Programs=(\"ProgramName\", lambda x: ', '.join(sorted(x.unique()))),\n",
    "    ProgramIDs=(\"ProgramID\", lambda x: ', '.join(sorted(x.unique()))),\n",
    "    N_Data=(\"PA\", lambda x: x.count()),\n",
    "    N_Years=(\"Year\", lambda x: len(x[~x.isna()].unique()) if x.count() > 0 else 0),\n",
    "    EarliestYear=(\"Year\", lambda x: x.min()),\n",
    "    LatestYear=(\"Year\", lambda x: x.max()),\n",
    ").reset_index()\n",
    "\n",
    "# Convert the 'SufficientData' column to boolean values (True/False)\n",
    "stats_pa2['SufficientData'] = np.where((stats_pa2.N_Data>0)&(stats_pa2.N_Years>=5), True, False)\n",
    "stats_pa2['SufficientData'] = stats_pa2['SufficientData'].astype(bool)\n",
    "\n",
    "stats_pa2.rename(columns={'analysisunit_halid': 'analysisunit'}, inplace=True)\n",
    "\n",
    "# Combine the distinct rows of 'stats_pa' and 'stats_pa2'\n",
    "stats_pa = pd.concat([stats_pa, stats_pa2]).drop_duplicates()\n",
    "\n",
    "# For rows in 'stats_pa' where 'N_Years' is equal to 0, replace the values of \"EarliestYear\" and \"LatestYear\" with NaN\n",
    "stats_pa.loc[stats_pa['N_Years'] == 0, ['EarliestYear', 'LatestYear']] = pd.NaT"
   ]
  },
  {
   "cell_type": "markdown",
   "id": "92df80b1",
   "metadata": {},
   "source": [
    "Up to line 648 of SEACAR_SAV_BB_scipt_website.R checked\n",
    "\n",
    "Only the N_Years aggregation is incorrectly computing. Not counting true N_Years where data is available"
   ]
  },
  {
   "cell_type": "markdown",
   "id": "e8f1dad8",
   "metadata": {},
   "source": [
    "# Begin Plotting"
   ]
  },
  {
   "cell_type": "code",
   "execution_count": 172,
   "id": "8c704b06",
   "metadata": {},
   "outputs": [],
   "source": [
    "ah = props_halid[(props_halid.ManagedAreaName=='Alligator Harbor')]\n",
    "\n",
    "unique_analysisunits = ah['analysisunit'].unique()\n",
    "spcols_subset = {k: v for k, v in spcols.items() if k in unique_analysisunits}"
   ]
  },
  {
   "cell_type": "code",
   "execution_count": null,
   "id": "b8e0aadd",
   "metadata": {},
   "outputs": [],
   "source": []
  },
  {
   "cell_type": "code",
   "execution_count": null,
   "id": "c559f4cd",
   "metadata": {},
   "outputs": [],
   "source": []
  },
  {
   "cell_type": "code",
   "execution_count": 65,
   "id": "4994f5af",
   "metadata": {},
   "outputs": [],
   "source": [
    "dat = SAV4[(SAV4['ManagedAreaName'] == 'Indian River-Vero Beach to Ft. Pierce') & (~SAV4['BB_pct'].isna())]"
   ]
  },
  {
   "cell_type": "code",
   "execution_count": 146,
   "id": "8184a305",
   "metadata": {},
   "outputs": [
    {
     "data": {
      "image/png": "[encoded data removed]",
      "text/plain": [
       "<Figure size 1200x600 with 1 Axes>"
      ]
     },
     "metadata": {},
     "output_type": "display_data"
    }
   ],
   "source": [
    "bpdat = props[(props.ManagedAreaName=='Indian River-Vero Beach to Ft. Pierce')]\n",
    "\n",
    "barplot_sp = plt.figure(figsize=(12, 6))\n",
    "ax = barplot_sp.add_subplot(111)\n",
    "\n",
    "# Group the data by analysisunit and relyear, and calculate the mean occurrence frequency (sp_pct)\n",
    "grouped_data = bpdat.groupby(['analysisunit', 'relyear'])['sp_pct'].mean().reset_index()\n",
    "\n",
    "# Get unique analysisunit names and their corresponding colors (spcols)\n",
    "unique_analysisunits = bpdat['analysisunit'].unique()\n",
    "spcols_subset = {k: v for k, v in spcols.items() if k in unique_analysisunits}\n",
    "\n",
    "# Plot the grouped data using a bar plot\n",
    "for idx, group in grouped_data.groupby('analysisunit'):\n",
    "    color = spcols_subset.get(idx, 'grey')\n",
    "    label = \"Halophila spp.\" if idx == \"Unidentified Halophila\" else idx\n",
    "    ax.bar(group['relyear'], group['sp_pct'], color=color, label=label)\n",
    "\n",
    "# Set x-axis labels and title\n",
    "ax.set_xlabel(\"Year\")\n",
    "ax.set_ylabel(\"Occurrence frequency (%)\")\n",
    "\n",
    "# Add a legend\n",
    "ax.legend(title=\"Species\", loc='upper left')\n",
    "\n",
    "plt.tight_layout()\n",
    "plt.show()"
   ]
  },
  {
   "cell_type": "code",
   "execution_count": 136,
   "id": "8822a5fe",
   "metadata": {},
   "outputs": [],
   "source": [
    "pattern = 'decipiens|engelmannii|johnsonii|Unidentified|Star|Paddle|Johnson'\n",
    "bpdat = props[(props.ManagedAreaName=='Indian River-Vero Beach to Ft. Pierce')&(~props.analysisunit.isna())&(~props['analysisunit'].str.contains(pattern, na=False, case=False))]"
   ]
  },
  {
   "cell_type": "code",
   "execution_count": 132,
   "id": "00e8be3c",
   "metadata": {},
   "outputs": [
    {
     "data": {
      "image/png": "[encoded data removed]",
      "text/plain": [
       "<Figure size 640x480 with 1 Axes>"
      ]
     },
     "metadata": {},
     "output_type": "display_data"
    }
   ],
   "source": [
    "# Create the bar plot using Seaborn\n",
    "barplot_sp = sns.barplot(data=bpdat, x='relyear', y='sp_pct', hue='analysisunit', palette=spcols)\n",
    "# bpdat.plot(kind='bar', x='relyear',y='sp_pct', stacked=True)\n",
    "\n",
    "# Set the title and labels\n",
    "plt.title('Frequency of Occurrence')\n",
    "plt.suptitle('Indian River-Vero Beach to Ft. Pierce')\n",
    "plt.xlabel('Year')\n",
    "plt.ylabel('Occurrence frequency (%)')\n",
    "\n",
    "# Rotate the x-axis labels for better readability\n",
    "plt.xticks(rotation=45, ha='right')\n",
    "\n",
    "# Place the legend outside the plot\n",
    "plt.legend(bbox_to_anchor=(1.05, 1), loc='upper left')\n",
    "\n",
    "# Show the plot\n",
    "plt.show()\n",
    "\n",
    "# To save the plot to a file, you can use plt.savefig\n",
    "# plt.savefig(\"barplot_sp.png\", dpi=300, bbox_inches='tight')\n"
   ]
  },
  {
   "cell_type": "code",
   "execution_count": 71,
   "id": "35d37b39",
   "metadata": {},
   "outputs": [],
   "source": [
    "pattern = 'decipiens|engelmannii|johnsonii|Unidentified|Star|Paddle|Johnson'\n",
    "bpdat = props[(props.ManagedAreaName=='Indian River-Vero Beach to Ft. Pierce')&(~props.analysisunit.isna())&(~props['analysisunit'].str.contains(pattern, na=False, case=False))]"
   ]
  },
  {
   "cell_type": "code",
   "execution_count": 218,
   "id": "4835c5b6",
   "metadata": {
    "scrolled": true
   },
   "outputs": [
    {
     "data": {
      "image/png": "[encoded data removed]",
      "text/plain": [
       "<Figure size 1000x600 with 1 Axes>"
      ]
     },
     "metadata": {},
     "output_type": "display_data"
    }
   ],
   "source": [
    "i = 'Indian River-Vero Beach to Ft. Pierce'\n",
    "if \"PA\" in Analyses:\n",
    "\n",
    "#     breaks = list(range(min(SAV4.loc[(SAV4['ManagedAreaName'] == i) & (~SAV4['PA'].isna()), 'relyear']),\n",
    "#                         max(SAV4.loc[(SAV4['ManagedAreaName'] == i) & (~SAV4['PA'].isna()), 'relyear']),\n",
    "#                         2))\n",
    "#     labels = [yrlist[b + 1] for b in breaks]\n",
    "\n",
    "    bpdat = props[(props['ManagedAreaName'] == i) & (~props['analysisunit'].isna())]\n",
    "    bpdat = bpdat[bpdat.analysisunit!=\"Total SAV\"]\n",
    "    bpdat = bpdat[bpdat.analysisunit!=\"Total seagrass\"]\n",
    "\n",
    "    plt.figure(figsize=(10, 6))\n",
    "    \n",
    "    for idx, group in bpdat.groupby(['analysisunit']):\n",
    "        ax = sns.barplot(data=group, x='relyear', y='sp_pct', hue='analysisunit', palette='viridis')\n",
    "        \n",
    "    # Set the title and labels\n",
    "    plt.xlabel('Year')\n",
    "    plt.ylabel('Occurrence frequency (%)')\n",
    "\n",
    "    # Rotate the x-axis labels for better readability\n",
    "    plt.xticks(rotation=45, ha='right')\n",
    "\n",
    "    # Move the legend outside the plot\n",
    "    plt.legend(bbox_to_anchor=(1.05, 1), loc='upper left')\n",
    "\n",
    "    # Save the plot to a file\n",
    "    plt.tight_layout()\n",
    "    plt.savefig(f\"SAV/output/Figures/BB/img/SAV_PA_{''.join([c.capitalize() for c in i.split()])}_{'ERR' if 'NERR' in i else 'MS' if 'NMS' in i else 'AP'}_barplot_sp.png\", dpi=300, bbox_inches='tight')\n",
    "    plt.show()"
   ]
  },
  {
   "cell_type": "code",
   "execution_count": 124,
   "id": "87e518f2",
   "metadata": {},
   "outputs": [
    {
     "data": {
      "text/html": [
       "<div>\n",
       "<style scoped>\n",
       "    .dataframe tbody tr th:only-of-type {\n",
       "        vertical-align: middle;\n",
       "    }\n",
       "\n",
       "    .dataframe tbody tr th {\n",
       "        vertical-align: top;\n",
       "    }\n",
       "\n",
       "    .dataframe thead th {\n",
       "        text-align: right;\n",
       "    }\n",
       "</style>\n",
       "<table border=\"1\" class=\"dataframe\">\n",
       "  <thead>\n",
       "    <tr style=\"text-align: right;\">\n",
       "      <th></th>\n",
       "      <th>analysisunit</th>\n",
       "      <th>relyear</th>\n",
       "      <th>sp_pct</th>\n",
       "    </tr>\n",
       "  </thead>\n",
       "  <tbody>\n",
       "    <tr>\n",
       "      <th>0</th>\n",
       "      <td>Halophila spp.</td>\n",
       "      <td>0</td>\n",
       "      <td>2.061856</td>\n",
       "    </tr>\n",
       "    <tr>\n",
       "      <th>29</th>\n",
       "      <td>Manatee grass</td>\n",
       "      <td>0</td>\n",
       "      <td>25.773196</td>\n",
       "    </tr>\n",
       "    <tr>\n",
       "      <th>58</th>\n",
       "      <td>Shoal grass</td>\n",
       "      <td>0</td>\n",
       "      <td>40.206186</td>\n",
       "    </tr>\n",
       "    <tr>\n",
       "      <th>87</th>\n",
       "      <td>Turtle grass</td>\n",
       "      <td>0</td>\n",
       "      <td>31.958763</td>\n",
       "    </tr>\n",
       "    <tr>\n",
       "      <th>116</th>\n",
       "      <td>Widgeon grass</td>\n",
       "      <td>0</td>\n",
       "      <td>0.000000</td>\n",
       "    </tr>\n",
       "  </tbody>\n",
       "</table>\n",
       "</div>"
      ],
      "text/plain": [
       "       analysisunit  relyear     sp_pct\n",
       "0    Halophila spp.        0   2.061856\n",
       "29    Manatee grass        0  25.773196\n",
       "58      Shoal grass        0  40.206186\n",
       "87     Turtle grass        0  31.958763\n",
       "116   Widgeon grass        0   0.000000"
      ]
     },
     "execution_count": 124,
     "metadata": {},
     "output_type": "execute_result"
    }
   ],
   "source": [
    "grouped_data = bpdat.groupby(['analysisunit', 'relyear'])['sp_pct'].mean().reset_index()\n",
    "grouped_data[grouped_data.relyear==0]"
   ]
  },
  {
   "cell_type": "code",
   "execution_count": null,
   "id": "9eeb3a72",
   "metadata": {},
   "outputs": [],
   "source": []
  }
 ],
 "metadata": {
  "kernelspec": {
   "display_name": "Python 3 (ipykernel)",
   "language": "python",
   "name": "python3"
  },
  "language_info": {
   "codemirror_mode": {
    "name": "ipython",
    "version": 3
   },
   "file_extension": ".py",
   "mimetype": "text/x-python",
   "name": "python",
   "nbconvert_exporter": "python",
   "pygments_lexer": "ipython3",
   "version": "3.11.4"
  }
 },
 "nbformat": 4,
 "nbformat_minor": 5
}
