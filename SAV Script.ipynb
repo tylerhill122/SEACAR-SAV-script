{
 "cells": [
  {
   "cell_type": "code",
   "execution_count": 1,
   "id": "4ba42298",
   "metadata": {},
   "outputs": [],
   "source": [
    "import pandas as pd\n",
    "import numpy as np\n",
    "from sklearn import preprocessing"
   ]
  },
  {
   "cell_type": "code",
   "execution_count": 2,
   "id": "fbd573f8",
   "metadata": {},
   "outputs": [
    {
     "name": "stderr",
     "output_type": "stream",
     "text": [
      "C:\\Users\\Hill_T\\AppData\\Local\\Temp\\ipykernel_1680\\1126649852.py:2: DtypeWarning: Columns (17,23) have mixed types. Specify dtype option on import or set low_memory=False.\n",
      "  SAV = pd.read_csv(file, sep='|',na_values=['NULL','','NA'])\n"
     ]
    }
   ],
   "source": [
    "file = 'SAV/data/All_SAV_Parameters-2023-Jun-05.txt'\n",
    "SAV = pd.read_csv(file, sep='|',na_values=['NULL','','NA'])"
   ]
  },
  {
   "cell_type": "code",
   "execution_count": 6,
   "id": "c0082fe5",
   "metadata": {},
   "outputs": [],
   "source": [
    "SAV['BB'] = SAV[SAV.ParameterName=='Braun Blanquet Score']['ResultValue']\n",
    "SAV['mBB'] = SAV[SAV.ParameterName=='Modified Braun Blanquet Score']['ResultValue']\n",
    "SAV['PC'] = SAV[SAV.ParameterName=='Percent Cover']['ResultValue']\n",
    "SAV['PO'] = SAV[SAV.ParameterName=='Percent Occurrence']['ResultValue']\n",
    "SAV['SC'] = SAV[SAV.ParameterName=='Shoot Count']['ResultValue']\n",
    "SAV['PA'] = SAV[SAV.ParameterName=='Presence/Absence']['ResultValue']"
   ]
  },
  {
   "cell_type": "code",
   "execution_count": 7,
   "id": "07d1ce24",
   "metadata": {},
   "outputs": [
    {
     "name": "stderr",
     "output_type": "stream",
     "text": [
      "C:\\Users\\Hill_T\\AppData\\Local\\Temp\\ipykernel_1680\\1331889215.py:1: SettingWithCopyWarning: \n",
      "A value is trying to be set on a copy of a slice from a DataFrame.\n",
      "Try using .loc[row_indexer,col_indexer] = value instead\n",
      "\n",
      "See the caveats in the documentation: https://pandas.pydata.org/pandas-docs/stable/user_guide/indexing.html#returning-a-view-versus-a-copy\n",
      "  SAV[SAV.CommonIdentifier=='Total_SAV'].CommonIdentifier = 'Total SAV'\n"
     ]
    }
   ],
   "source": [
    "SAV[SAV.CommonIdentifier=='Total_SAV'].CommonIdentifier = 'Total SAV'\n",
    "SAV_sum = SAV.groupby('ManagedAreaName').agg(n_yr=('Year', lambda x: len(np.unique(x))), yrs=('Year', lambda x: sorted(np.unique(x).tolist())))"
   ]
  },
  {
   "cell_type": "code",
   "execution_count": 8,
   "id": "7640fb85",
   "metadata": {},
   "outputs": [],
   "source": [
    "SAV2 = SAV[(~pd.isna(SAV['BB'])) | (~pd.isna(SAV['mBB'])) | (~pd.isna(SAV['PC'])) | (~pd.isna(SAV['PO']))]\n",
    "\n",
    "SAV2 = SAV2[(SAV2['BB'] >= 0) & (SAV2['BB'] <= 5) | pd.isna(SAV2['BB'])]\n",
    "SAV2 = SAV2[(SAV2['mBB'] >= 0) & (SAV2['mBB'] <= 5) | pd.isna(SAV2['mBB'])]\n",
    "SAV2 = SAV2[(SAV2['PC'] >= 0) & (SAV2['PC'] <= 100) | pd.isna(SAV2['PC'])]\n",
    "SAV2 = SAV2[(SAV2['PO'] >= 0) & (SAV2['PO'] <= 100) | pd.isna(SAV2['PO'])]\n",
    "SAV2 = SAV2[SAV2['Month'].isin(list(range(4, 11)))]"
   ]
  },
  {
   "cell_type": "code",
   "execution_count": 9,
   "id": "013bbab6",
   "metadata": {},
   "outputs": [],
   "source": [
    "SAV2['BB_all'] = np.nan"
   ]
  },
  {
   "cell_type": "code",
   "execution_count": 10,
   "id": "a7fac14b",
   "metadata": {},
   "outputs": [],
   "source": [
    "SAV2.loc[~SAV2['BB'].isna(),'BB_all'] = np.select(\n",
    "    [(SAV2[~SAV2['BB'].isna()]['BB'] == 0),(SAV2[~SAV2['BB'].isna()]['BB'] > 0) & (SAV2[~SAV2['BB'].isna()]['BB'] <= 1),(SAV2[~SAV2['BB'].isna()]['BB'] > 1)], \n",
    "    [0, 1, np.round(SAV2[~SAV2['BB'].isna()]['BB'])]\n",
    ")\n",
    "\n",
    "SAV2.loc[~SAV2['mBB'].isna(), 'BB_all'] = np.select(\n",
    "    [(SAV2[~SAV2['mBB'].isna()]['mBB']==0),\n",
    "        (SAV2[~SAV2['mBB'].isna()]['mBB'] > 0) & (SAV2[~SAV2['mBB'].isna()]['mBB'] <= 1),\n",
    "        (SAV2[~SAV2['mBB'].isna()]['mBB'] > 1)],\n",
    "    [0, 1, np.round(SAV2[~SAV2['mBB'].isna()]['mBB'])]\n",
    ")\n",
    "\n",
    "pc_na = SAV2.loc[~SAV2['PC'].isna()]['PC']\n",
    "pc_conditions = [\n",
    "    (pc_na==0),\n",
    "    ((pc_na > 0)&(pc_na <= (2.5+(15-2.5)/2))),\n",
    "    (pc_na <= (2.5+(15-2.5)+(37.5-15)/2)),\n",
    "    (pc_na <= (2.5+(15-2.5)+(37.5-15)+(62.5-37.5)/2)),\n",
    "    (pc_na <= (2.5+(15-2.5)+(37.5-15)+(62.5-37.5)+(87.5-62.5)/2)),\n",
    "    (pc_na > (2.5+(15-2.5)+(37.5-15)+(62.5-37.5)+(87.5-62.5)/2))\n",
    "]\n",
    "SAV2.loc[~SAV2['PC'].isna(), 'BB_all'] = np.select(pc_conditions,[0, 1, 2, 3, 4, 5])"
   ]
  },
  {
   "cell_type": "code",
   "execution_count": 11,
   "id": "329f682b",
   "metadata": {},
   "outputs": [],
   "source": [
    "bb_all_na = SAV2.loc[~SAV2['BB_all'].isna()]\n",
    "SAV2.loc[~SAV2['BB_all'].isna(), 'BB_pct'] = np.select(\n",
    "    [\n",
    "        bb_all_na['BB_all'] == 0,\n",
    "        (bb_all_na['BB_all'] > 0) & (bb_all_na['BB_all'] <= 0.1),\n",
    "        (bb_all_na['BB_all'] > 0.1) & (bb_all_na['BB_all'] <= 0.5),\n",
    "        (bb_all_na['BB_all'] > 0.5) & (bb_all_na['BB_all'] <= 1),\n",
    "        (bb_all_na['BB_all'] > 1) & (bb_all_na['BB_all'] <= 2),\n",
    "        (bb_all_na['BB_all'] > 2) & (bb_all_na['BB_all'] <= 3),\n",
    "        (bb_all_na['BB_all'] > 3) & (bb_all_na['BB_all'] <= 4),\n",
    "        (bb_all_na['BB_all'] > 4) & (bb_all_na['BB_all'] <= 5)\n",
    "    ],\n",
    "    [\n",
    "        0,\n",
    "        np.interp(bb_all_na['BB_all'], [0, 0.1], [0, 0.02]),\n",
    "        np.interp(bb_all_na['BB_all'], [0.1, 0.5], [0.02, 0.1]),\n",
    "        np.interp(bb_all_na['BB_all'], [0.5, 1], [0.1, 2.5]),\n",
    "        np.interp(bb_all_na['BB_all'], [1, 2], [2.5, 15]),\n",
    "        np.interp(bb_all_na['BB_all'], [2, 3], [15, 37.5]),\n",
    "        np.interp(bb_all_na['BB_all'], [3, 4], [37.5, 62.5]),\n",
    "        np.interp(bb_all_na['BB_all'], [4, 5], [62.5, 87.5])\n",
    "    ],\n",
    "    default=np.nan\n",
    ")\n",
    "\n",
    "SAV2['BB_pct'] = SAV2['BB_pct'].astype(float)\n",
    "SAV2['BB_all'] = pd.Categorical(SAV2['BB_all'])\n",
    "\n",
    "SAV2.loc[~SAV2['PO'].isna(), 'method'] = \"Percent Occurrence\"\n",
    "SAV2.loc[~SAV2['BB'].isna(), 'method'] = \"Braun Blanquet\"\n",
    "SAV2.loc[~SAV2['mBB'].isna(), 'method'] = \"Modified Braun Blanquet\"\n",
    "SAV2.loc[~SAV2['PC'].isna(), 'method'] = \"Percent Cover\""
   ]
  },
  {
   "cell_type": "code",
   "execution_count": 12,
   "id": "29df34d9",
   "metadata": {},
   "outputs": [],
   "source": [
    "import re\n",
    "\n",
    "# Update PA where BB_all is not NA\n",
    "SAV2.loc[~SAV2['BB_all'].isna(), 'PA'] = np.where(SAV2.loc[~SAV2['BB_all'].isna()]['BB_all'] == 0, 0, 1)\n",
    "\n",
    "# Update PA where PO is not NA\n",
    "SAV2.loc[~SAV2['PO'].isna(), 'PA'] = np.where(SAV2.loc[~SAV2['PO'].isna()]['PO'] == 0, 0, 1)\n",
    "\n",
    "# Calculate relyear\n",
    "SAV2['relyear'] = SAV2['Year'] - SAV2['Year'].min()"
   ]
  },
  {
   "cell_type": "code",
   "execution_count": 13,
   "id": "1a48e987",
   "metadata": {},
   "outputs": [],
   "source": [
    "# Filter SAV2 for SpeciesGroup1 values \"Seagrass\" or \"Macroalgae\"\n",
    "SAV3 = SAV2[SAV2['SpeciesGroup1'].isin(['Seagrass', 'Macroalgae'])].copy()"
   ]
  },
  {
   "cell_type": "code",
   "execution_count": 14,
   "id": "b1ff6a0b",
   "metadata": {},
   "outputs": [],
   "source": [
    "# Temporary fix for ProgramID values 570 and 571\n",
    "SAV3.loc[(SAV3['ProgramID'].isin([570, 571])) & (SAV3['CommonIdentifier'] == 'Total SAV'), 'CommonIdentifier'] = 'Total seagrass'\n",
    "\n",
    "# Temporary fix for records with CommonIdentifier as \"Drift algae\"\n",
    "SAV3.loc[SAV3['CommonIdentifier'] == 'Drift algae', 'Drift_Attached'] = 'Drift'"
   ]
  },
  {
   "cell_type": "code",
   "execution_count": 15,
   "id": "bb492012",
   "metadata": {},
   "outputs": [],
   "source": [
    "species_reject = [\"All\", \"NA\",\n",
    "                  \"Vallisneria americana\", \"Najas guadalupensis\",\n",
    "                  \"Hydrilla verticillata\", \"Potamogeton pusillus\",\n",
    "                  \"Zannichellia palustris\"]\n",
    "\n",
    "# Update analysisunit_halid and analysisunit columns\n",
    "SAV3['analysisunit_halid'] = np.where(SAV3['CommonIdentifier'].isin(species_reject), np.nan,\n",
    "                                      np.where(SAV3['CommonIdentifier'].str.contains('Halophila') & SAV3['SpeciesName'].isna(),\n",
    "                                               'Unidentified Halophila',\n",
    "                                               np.where(SAV3['SpeciesGroup1'] == 'Seagrass', SAV3['CommonIdentifier'],\n",
    "                                                        SAV3['Drift_Attached'])))\n",
    "\n",
    "SAV3['analysisunit'] = np.where(SAV3['CommonIdentifier'].isin(species_reject), np.nan,\n",
    "                                np.where(SAV3['CommonIdentifier'].str.contains('Halophila'), 'Halophila spp.',\n",
    "                                         np.where(SAV3['SpeciesGroup1'] == 'Seagrass', SAV3['CommonIdentifier'],\n",
    "                                                  SAV3['Drift_Attached'])))\n",
    "\n",
    "# Update analysisunit_halid and analysisunit columns for records with Drift_Attached not NA\n",
    "SAV3.loc[~SAV3['Drift_Attached'].isna(), 'analysisunit_halid'] = SAV3.loc[~SAV3['Drift_Attached'].isna(), 'analysisunit_halid'] + ' algae'\n",
    "SAV3.loc[~SAV3['Drift_Attached'].isna(), 'analysisunit'] = SAV3.loc[~SAV3['Drift_Attached'].isna(), 'analysisunit'] + ' algae'"
   ]
  },
  {
   "cell_type": "code",
   "execution_count": 18,
   "id": "9d2717d8",
   "metadata": {},
   "outputs": [],
   "source": [
    "# Remove rows with NA in analysisunit column\n",
    "SAV4 = SAV3.dropna(subset=['analysisunit']).copy()\n",
    "\n",
    "# Save SAV4 as RDS file / pickle\n",
    "SAV4.to_pickle(\"SAV/output/SAV_DataUsed.pkl\")\n",
    "\n",
    "# Save SAV4 as CSV file\n",
    "SAV4.to_csv(\"SAV/output/SAV_DataUsed.txt\", sep='|', index=False)"
   ]
  },
  {
   "cell_type": "code",
   "execution_count": 24,
   "id": "befbdc6f",
   "metadata": {},
   "outputs": [],
   "source": [
    "# Calculate SAV4_sum by grouping method and ManagedAreaName\n",
    "SAV4_sum = SAV4.groupby(['method', 'ManagedAreaName']).agg(n_yr=('Year', lambda x: len(np.unique(x))),\n",
    "                                                          yrs=('Year', lambda x: sorted(np.unique(x)))).reset_index()"
   ]
  },
  {
   "cell_type": "markdown",
   "id": "79c5c548",
   "metadata": {},
   "source": [
    "### PLOTTING ###"
   ]
  },
  {
   "cell_type": "code",
   "execution_count": 30,
   "id": "9b1c6254",
   "metadata": {},
   "outputs": [],
   "source": [
    "import matplotlib.pyplot as plt\n",
    "\n",
    "def addfits_blacktrendlines(models, plot_i, param):\n",
    "    aucol = plot_i.data.columns[0]\n",
    "    if len(models) == 1:\n",
    "        i = plot_i.data.iloc[0]['ManagedAreaName']\n",
    "        filtered_data = SAV4[(SAV4['ManagedAreaName'] == i) & (~SAV4[param].isna()) & (SAV4[aucol] == models[0].data[aucol].unique())]\n",
    "        plot_i += plt.geom_line(data=filtered_data,\n",
    "                                mapping=plt.aes(x='relyear', y=models[0].predict(level=0)),\n",
    "                                color='#000099', size=0.75, alpha=0.7, inherit_aes=False)\n",
    "        return plot_i"
   ]
  },
  {
   "cell_type": "code",
   "execution_count": 31,
   "id": "93ea3b52",
   "metadata": {},
   "outputs": [],
   "source": [
    "EDA = \"plots\"\n",
    "Analyses = ['BB_pct','PA']"
   ]
  },
  {
   "cell_type": "code",
   "execution_count": 32,
   "id": "74ed5f81",
   "metadata": {},
   "outputs": [],
   "source": [
    "# Empty DataFrame to store names of any failed models\n",
    "failedmods = pd.DataFrame(columns=[\"model\", \"error\"])\n",
    "\n",
    "# Create a table of the proportion of present SAV types by managed area and year\n",
    "props_halid = (SAV4[~SAV4['analysisunit_halid'].str.contains(r'Total|Drift|spp\\.', na=False) & ~SAV4['PA'].isna()]\n",
    "              .groupby(['ManagedAreaName', 'analysisunit_halid', 'relyear'])\n",
    "              .agg(n_P=('PA', 'sum'), ntot_PA=('PA', 'count'))\n",
    "              .assign(prop_P=lambda x: x['n_P'] / x['ntot_PA']))\n",
    "\n",
    "props = (SAV4[~SAV4['analysisunit'].str.contains(r'Total|Drift|decipiens|engelmannii|johnsonii|Unidentified', na=False) & ~SAV4['PA'].isna()]\n",
    "         .groupby(['ManagedAreaName', 'analysisunit', 'relyear'])\n",
    "         .agg(n_P=('PA', 'sum'), ntot_PA=('PA', 'count'))\n",
    "         .assign(prop_P=lambda x: x['n_P'] / x['ntot_PA']))\n",
    "\n",
    "props_halid.reset_index(inplace=True)\n",
    "props.reset_index(inplace=True)\n",
    "\n",
    "props_halid['n_allsp_P'] = props_halid.groupby(['ManagedAreaName', 'relyear'])['n_P'].transform('sum')\n",
    "props_halid['sp_prop'] = props_halid['n_P'] / props_halid['n_allsp_P']\n",
    "props_halid['sp_pct'] = props_halid['sp_prop'] * 100\n",
    "\n",
    "props['n_allsp_P'] = props.groupby(['ManagedAreaName', 'relyear'])['n_P'].transform('sum')\n",
    "props['sp_prop'] = props['n_P'] / props['n_allsp_P']\n",
    "props['sp_pct'] = props['sp_prop'] * 100\n",
    "\n",
    "props2 = pd.concat([props_halid, props]).drop_duplicates()\n",
    "props2.sort_values(by=['ManagedAreaName', 'relyear', 'analysisunit'], inplace=True)\n",
    "props = props2"
   ]
  },
  {
   "cell_type": "code",
   "execution_count": 33,
   "id": "6e47e27e",
   "metadata": {},
   "outputs": [],
   "source": [
    "spcollist=[\"#005396\",\"#0088B1\",\"#00ADAE\",\"#65CCB3\",\"#AEE4C1\",\"#FDEBA8\",\"#F8CD6D\",\"#F5A800\",\"#F17B00\"]"
   ]
  },
  {
   "cell_type": "code",
   "execution_count": 34,
   "id": "a79afced",
   "metadata": {},
   "outputs": [],
   "source": [
    "spp = [\"Halodule wrightii\", \"Halophila decipiens\", \"Halophila engelmannii\", \"Halophila johnsonii\", \n",
    "         \"Halophila spp.\", \"Ruppia maritima\", \"Syringodium filiforme\", \"Thalassia testudinum\", \"Attached algae\"]\n",
    "\n",
    "spp_common = [\"Halophila spp.\", \"Johnson's seagrass\", \"Manatee grass\", \"Paddle grass\", \n",
    "                \"Shoal grass\", \"Star grass\", \"Turtle grass\", \"Widgeon grass\", \"Attached algae\"]"
   ]
  },
  {
   "cell_type": "code",
   "execution_count": 35,
   "id": "4c22369a",
   "metadata": {},
   "outputs": [],
   "source": [
    "usenames = \"common\"  # alternative is \"scientific\"\n",
    "if usenames == \"common\":\n",
    "    spcols = dict(zip(spp_common, spcollist))\n",
    "else:\n",
    "    spcols = dict(zip(spp, spcollist))"
   ]
  },
  {
   "cell_type": "code",
   "execution_count": 36,
   "id": "0deb4af0",
   "metadata": {},
   "outputs": [
    {
     "data": {
      "text/plain": [
       "'#005396'"
      ]
     },
     "execution_count": 36,
     "metadata": {},
     "output_type": "execute_result"
    }
   ],
   "source": [
    "spindet_nm = [\"Unidentified Halophila\"]\n",
    "spindet_cl = spcols[\"Halophila spp.\"]"
   ]
  },
  {
   "cell_type": "code",
   "execution_count": 37,
   "id": "503c4d35",
   "metadata": {},
   "outputs": [
    {
     "data": {
      "text/plain": [
       "{'Unidentified Halophila': '#005396'}"
      ]
     },
     "execution_count": 37,
     "metadata": {},
     "output_type": "execute_result"
    }
   ],
   "source": [
    "spindet = dict(zip(spindet_nm, [spindet_cl]))"
   ]
  },
  {
   "cell_type": "code",
   "execution_count": 38,
   "id": "ad827eb6",
   "metadata": {},
   "outputs": [
    {
     "data": {
      "text/plain": [
       "[('Halophila spp.', '#005396'),\n",
       " (\"Johnson's seagrass\", '#0088B1'),\n",
       " ('Manatee grass', '#00ADAE'),\n",
       " ('Paddle grass', '#65CCB3'),\n",
       " ('Shoal grass', '#AEE4C1'),\n",
       " ('Star grass', '#FDEBA8'),\n",
       " ('Turtle grass', '#F8CD6D'),\n",
       " ('Widgeon grass', '#F5A800'),\n",
       " ('Attached algae', '#F17B00'),\n",
       " {'Unidentified Halophila': '#005396'}]"
      ]
     },
     "execution_count": 38,
     "metadata": {},
     "output_type": "execute_result"
    }
   ],
   "source": [
    "spcols_list = list(spcols.items())\n",
    "spcols_list.append(spindet)"
   ]
  },
  {
   "cell_type": "code",
   "execution_count": 39,
   "id": "e7327a98",
   "metadata": {},
   "outputs": [],
   "source": [
    "if usenames == \"common\":\n",
    "    SAV4.loc[:, 'analysisunit_halid'] = (SAV4['analysisunit_halid'].replace({\n",
    "        \"Thalassia testudinum\": \"Turtle grass\",\n",
    "        \"Syringodium filiforme\": \"Manatee grass\",\n",
    "        \"Halodule wrightii\": \"Shoal grass\",\n",
    "        \"Ruppia maritima\": \"Widgeon grass\",\n",
    "        \"Halophila decipiens\": \"Paddle grass\",\n",
    "        \"Halophila engelmannii\": \"Star grass\",\n",
    "        \"Halophila johnsonii\": \"Johnson's seagrass\",\n",
    "        \"Unidentified Halophila\": \"Unidentified Halophila\",\n",
    "        \"Halophila spp.\": \"Halophila spp.\",\n",
    "        \"Total seagrass\": \"Total seagrass\",\n",
    "        \"Attached algae\": \"Attached algae\",\n",
    "        \"Drift algae\": \"Drift algae\",\n",
    "        \"Total SAV\": \"Total SAV\"\n",
    "    }))\n",
    "    \n",
    "    SAV4.loc[:, 'analysisunit'] = (SAV4['analysisunit'].replace({\n",
    "        \"Thalassia testudinum\": \"Turtle grass\",\n",
    "        \"Syringodium filiforme\": \"Manatee grass\",\n",
    "        \"Halodule wrightii\": \"Shoal grass\",\n",
    "        \"Ruppia maritima\": \"Widgeon grass\",\n",
    "        \"Halophila decipiens\": \"Paddle grass\",\n",
    "        \"Halophila engelmannii\": \"Star grass\",\n",
    "        \"Halophila johnsonii\": \"Johnson's seagrass\",\n",
    "        \"Unidentified Halophila\": \"Unidentified Halophila\",\n",
    "        \"Halophila spp.\": \"Halophila spp.\",\n",
    "        \"Total seagrass\": \"Total seagrass\",\n",
    "        \"Attached algae\": \"Attached algae\",\n",
    "        \"Drift algae\": \"Drift algae\",\n",
    "        \"Total SAV\": \"Total SAV\"\n",
    "    }))\n",
    "    \n",
    "    props.loc[:, 'analysisunit'] = (props['analysisunit'].replace({\n",
    "        \"Thalassia testudinum\": \"Turtle grass\",\n",
    "        \"Syringodium filiforme\": \"Manatee grass\",\n",
    "        \"Halodule wrightii\": \"Shoal grass\",\n",
    "        \"Ruppia maritima\": \"Widgeon grass\",\n",
    "        \"Halophila decipiens\": \"Paddle grass\",\n",
    "        \"Halophila engelmannii\": \"Star grass\",\n",
    "        \"Halophila johnsonii\": \"Johnson's seagrass\",\n",
    "        \"Unidentified Halophila\": \"Unidentified Halophila\",\n",
    "        \"Halophila spp.\": \"Halophila spp.\",\n",
    "        \"Attached algae\": \"Attached algae\"\n",
    "    }))\n",
    "    \n",
    "    props['analysisunit'] = pd.Categorical(props['analysisunit'], categories=[\n",
    "        \"Unidentified Halophila\",\n",
    "        \"Halophila spp.\",\n",
    "        \"Johnson's seagrass\",\n",
    "        \"Manatee grass\",\n",
    "        \"Paddle grass\",\n",
    "        \"Shoal grass\",\n",
    "        \"Star grass\",\n",
    "        \"Turtle grass\",\n",
    "        \"Widgeon grass\",\n",
    "        \"Attached algae\"\n",
    "    ], ordered=True)"
   ]
  },
  {
   "cell_type": "code",
   "execution_count": 40,
   "id": "5958e671",
   "metadata": {},
   "outputs": [],
   "source": [
    "import seaborn as sns\n",
    "\n",
    "prcollist_a = sns.color_palette(\"YlOrRd\", n_colors=len(SAV4['ProgramName'].unique()))\n",
    "prcollist_b = sns.color_palette(\"YlGnBu\", n_colors=len(SAV4['ProgramName'].unique()) + 1)[::-1]\n",
    "prcollist = [color for i, color in enumerate(prcollist_a) if i % 2 == 1] + [color for i, color in enumerate(prcollist_b) if i % 2 == 0]\n",
    "prcollist = prcollist[::-1]\n",
    "\n",
    "np.random.seed(4691)\n",
    "progs = np.random.choice(np.sort(SAV4['ProgramName'].unique()), size=len(SAV4['ProgramName'].unique()), replace=False)\n",
    "prcols = dict(zip(progs, prcollist))"
   ]
  },
  {
   "cell_type": "code",
   "execution_count": 41,
   "id": "21459836",
   "metadata": {
    "scrolled": true
   },
   "outputs": [
    {
     "data": {
      "text/html": [
       "<div>\n",
       "<style scoped>\n",
       "    .dataframe tbody tr th:only-of-type {\n",
       "        vertical-align: middle;\n",
       "    }\n",
       "\n",
       "    .dataframe tbody tr th {\n",
       "        vertical-align: top;\n",
       "    }\n",
       "\n",
       "    .dataframe thead th {\n",
       "        text-align: right;\n",
       "    }\n",
       "</style>\n",
       "<table border=\"1\" class=\"dataframe\">\n",
       "  <thead>\n",
       "    <tr style=\"text-align: right;\">\n",
       "      <th></th>\n",
       "      <th>column</th>\n",
       "      <th>name</th>\n",
       "      <th>type</th>\n",
       "    </tr>\n",
       "  </thead>\n",
       "  <tbody>\n",
       "    <tr>\n",
       "      <th>0</th>\n",
       "      <td>BB_all</td>\n",
       "      <td>Braun Blanquet score</td>\n",
       "      <td>BBall</td>\n",
       "    </tr>\n",
       "    <tr>\n",
       "      <th>1</th>\n",
       "      <td>BB_pct</td>\n",
       "      <td>Median percent cover</td>\n",
       "      <td>BBpct</td>\n",
       "    </tr>\n",
       "    <tr>\n",
       "      <th>2</th>\n",
       "      <td>PC</td>\n",
       "      <td>Visual percent cover</td>\n",
       "      <td>PC</td>\n",
       "    </tr>\n",
       "    <tr>\n",
       "      <th>3</th>\n",
       "      <td>PO</td>\n",
       "      <td>Percent occurrence</td>\n",
       "      <td>PO</td>\n",
       "    </tr>\n",
       "    <tr>\n",
       "      <th>4</th>\n",
       "      <td>PA</td>\n",
       "      <td>Frequency of occurrence</td>\n",
       "      <td>PA</td>\n",
       "    </tr>\n",
       "  </tbody>\n",
       "</table>\n",
       "</div>"
      ],
      "text/plain": [
       "   column                     name   type\n",
       "0  BB_all     Braun Blanquet score  BBall\n",
       "1  BB_pct     Median percent cover  BBpct\n",
       "2      PC     Visual percent cover     PC\n",
       "3      PO       Percent occurrence     PO\n",
       "4      PA  Frequency of occurrence     PA"
      ]
     },
     "execution_count": 41,
     "metadata": {},
     "output_type": "execute_result"
    }
   ],
   "source": [
    "parameters = pd.DataFrame({\n",
    "    'column': ['BB_all', 'BB_pct', 'PC', 'PO', 'PA'],\n",
    "    'name': ['Braun Blanquet score', 'Median percent cover', 'Visual percent cover', 'Percent occurrence', 'Frequency of occurrence'],\n",
    "    'type': ['BBall', 'BBpct', 'PC', 'PO', 'PA']\n",
    "})\n",
    "parameters"
   ]
  },
  {
   "cell_type": "code",
   "execution_count": 42,
   "id": "484b9ddb",
   "metadata": {},
   "outputs": [],
   "source": [
    "import matplotlib.pyplot as plt\n",
    "import matplotlib.font_manager as fm\n",
    "\n",
    "plot_theme = plt.rcParams.copy()\n",
    "plot_theme.update({\n",
    "    'axes.grid': False,\n",
    "    'font.family': 'Arial',\n",
    "    'axes.titlesize': 12,\n",
    "    'axes.titleweight': 'bold',\n",
    "    'axes.labelsize': 10,\n",
    "    'legend.title_fontsize': 10,\n",
    "    'legend.fontsize': 10,\n",
    "    'xtick.labelsize': 10,\n",
    "    'ytick.labelsize': 10,\n",
    "    'xtick.major.pad': 5,\n",
    "    'ytick.major.pad': 0,\n",
    "    'xtick.alignment': 'center'\n",
    "})\n",
    "\n",
    "plt.rcParams.update(plot_theme)"
   ]
  },
  {
   "cell_type": "code",
   "execution_count": 43,
   "id": "3261b859",
   "metadata": {},
   "outputs": [],
   "source": [
    "ma_halspp = [\"Banana River\", \"Indian River-Malabar to Vero Beach\", \"Indian River-Vero Beach to Ft. Pierce\", \"Jensen Beach to Jupiter Inlet\",\n",
    "             \"Loxahatchee River-Lake Worth Creek\", \"Mosquito Lagoon\", \"Biscayne Bay\", \"Florida Keys NMS\"]"
   ]
  },
  {
   "cell_type": "code",
   "execution_count": 44,
   "id": "d6989f0a",
   "metadata": {},
   "outputs": [],
   "source": [
    "SAV4.ProgramID = SAV4.ProgramID.astype(str)"
   ]
  },
  {
   "cell_type": "code",
   "execution_count": 45,
   "id": "dd25e1fa",
   "metadata": {},
   "outputs": [],
   "source": [
    "stats_pct = SAV4[SAV4['ManagedAreaName'].isin(ma_halspp)].groupby(['ManagedAreaName', 'analysisunit']).agg(\n",
    "    ParameterName=(\"ParameterName\", lambda x: \"Median percent cover (from BB scores)\"),\n",
    "    N_Programs=(\"ProgramID\", lambda x: len(x.unique())),\n",
    "    Programs=(\"ProgramName\", lambda x: ', '.join(sorted(x.unique()))),\n",
    "    ProgramIDs=(\"ProgramID\", lambda x: ', '.join(sorted(x.unique()))),\n",
    "    N_Data=(\"BB_pct\", lambda x: len(x[~x.isna()])),\n",
    "    N_Years=(\"Year\", lambda x: len(x[~x.isna() & ~SAV4['BB_pct'].isna()].unique())),\n",
    "    EarliestYear=(\"Year\", lambda x: x[~SAV4['BB_pct'].isna()].min()),\n",
    "    LatestYear=(\"Year\", lambda x: x[~SAV4['BB_pct'].isna()].max()),\n",
    "    SufficientData=(\"BB_pct\", lambda x: (len(x[~x.isna()]) > 0) & (len(x[~SAV4['BB_pct'].isna()].unique()) >= 5))\n",
    ").reset_index()"
   ]
  },
  {
   "cell_type": "code",
   "execution_count": 117,
   "id": "19b8054c",
   "metadata": {},
   "outputs": [],
   "source": [
    "stats_pct2 = SAV4[SAV4['ManagedAreaName'].isin(set(SAV4['ManagedAreaName']).difference(ma_halspp))].groupby(['ManagedAreaName', 'analysisunit_halid']).agg(\n",
    "    ParameterName=(\"ParameterName\", lambda x: \"Median percent cover (from BB scores)\"),\n",
    "    N_Programs=(\"ProgramID\", lambda x: len(x.unique())),\n",
    "    Programs=(\"ProgramName\", lambda x: ', '.join(sorted(x.unique()))),\n",
    "    ProgramIDs=(\"ProgramID\", lambda x: ', '.join(sorted(x.unique()))),\n",
    "    N_Data=(\"BB_pct\", lambda x: len(x[~x.isna()])),\n",
    "    N_Years=(\"Year\", lambda x: len(x[~x.isna() & ~SAV4['BB_pct'].isna()].unique())),\n",
    "    EarliestYear=(\"Year\", lambda x: x[~SAV4['BB_pct'].isna()].min()),\n",
    "    LatestYear=(\"Year\", lambda x: x[~SAV4['BB_pct'].isna()].max()),\n",
    "    SufficientData=(\"BB_pct\", lambda x: (len(x[~x.isna()]) > 0) & (len(x[~SAV4['BB_pct'].isna()].unique()) >= 5))\n",
    ").reset_index()"
   ]
  },
  {
   "cell_type": "code",
   "execution_count": 124,
   "id": "b3bed53f",
   "metadata": {},
   "outputs": [],
   "source": [
    "stats_pct2 = stats_pct2.rename(columns={\"analysisunit_halid\": \"analysisunit\"})"
   ]
  },
  {
   "cell_type": "code",
   "execution_count": 129,
   "id": "c3d1e805",
   "metadata": {},
   "outputs": [],
   "source": [
    "new_stats_pct = pd.concat([stats_pct, stats_pct2])"
   ]
  },
  {
   "cell_type": "code",
   "execution_count": 131,
   "id": "2ff88e38",
   "metadata": {},
   "outputs": [],
   "source": [
    "new_stats_pct.to_csv(\"SAV/output/SAV_BBpct_Stats.txt\", sep=\"|\", index=False)"
   ]
  },
  {
   "cell_type": "code",
   "execution_count": 132,
   "id": "4bbc1617",
   "metadata": {},
   "outputs": [],
   "source": [
    "stats_pa = SAV4[SAV4['ManagedAreaName'].isin(ma_halspp)].groupby(['ManagedAreaName', 'analysisunit']).agg(\n",
    "    ParameterName=(\"ParameterName\", lambda x: \"Frequency of occurrence\"),\n",
    "    N_Programs=(\"ProgramID\", lambda x: len(x.unique())),\n",
    "    Programs=(\"ProgramName\", lambda x: ', '.join(sorted(x.unique()))),\n",
    "    ProgramIDs=(\"ProgramID\", lambda x: ', '.join(map(str, sorted(x.unique())))),\n",
    "    N_Data=(\"PA\", lambda x: len(x.dropna())),\n",
    "    N_Years=(\"Year\", lambda x: len(x[~x.isna() & ~x.isna()])),\n",
    "    EarliestYear=(\"Year\", lambda x: min(x.dropna())),\n",
    "    LatestYear=(\"Year\", lambda x: max(x.dropna())),\n",
    "    SufficientData=(\"Year\", lambda x: len(x.dropna()) > 0 and len(x[~x.isna() & ~x.isna()]) >= 5)\n",
    ").reset_index()"
   ]
  },
  {
   "cell_type": "code",
   "execution_count": 133,
   "id": "04dbc6fe",
   "metadata": {},
   "outputs": [],
   "source": [
    "stats_pa2 = SAV4[SAV4['ManagedAreaName'].isin(set(SAV4['ManagedAreaName']).difference(ma_halspp))].groupby(['ManagedAreaName', 'analysisunit_halid']).agg(\n",
    "    ParameterName=(\"ParameterName\", lambda x: \"Frequency of occurrence\"),\n",
    "    N_Programs=(\"ProgramID\", lambda x: len(x.unique())),\n",
    "    Programs=(\"ProgramName\", lambda x: ', '.join(sorted(x.unique()))),\n",
    "    ProgramIDs=(\"ProgramID\", lambda x: ', '.join(map(str, sorted(x.unique())))),\n",
    "    N_Data=(\"PA\", lambda x: len(x.dropna())),\n",
    "    N_Years=(\"Year\", lambda x: len(x[~x.isna() & ~x.isna()])),\n",
    "    EarliestYear=(\"Year\", lambda x: min(x.dropna())),\n",
    "    LatestYear=(\"Year\", lambda x: max(x.dropna())),\n",
    "    SufficientData=(\"Year\", lambda x: len(x.dropna()) > 0 and len(x[~x.isna() & ~x.isna()]) >= 5)\n",
    ").reset_index()"
   ]
  },
  {
   "cell_type": "code",
   "execution_count": 134,
   "id": "d3a2032e",
   "metadata": {},
   "outputs": [],
   "source": [
    "stats_pa2['analysisunit'] = stats_pa2['analysisunit_halid']\n",
    "stats_pa = pd.concat([stats_pa, stats_pa2], ignore_index=True)\n",
    "\n",
    "stats_pa.loc[stats_pa['N_Years'] == 0, ['EarliestYear', 'LatestYear']] = np.nan"
   ]
  },
  {
   "cell_type": "code",
   "execution_count": 135,
   "id": "be518b9e",
   "metadata": {},
   "outputs": [
    {
     "data": {
      "text/html": [
       "<div>\n",
       "<style scoped>\n",
       "    .dataframe tbody tr th:only-of-type {\n",
       "        vertical-align: middle;\n",
       "    }\n",
       "\n",
       "    .dataframe tbody tr th {\n",
       "        vertical-align: top;\n",
       "    }\n",
       "\n",
       "    .dataframe thead th {\n",
       "        text-align: right;\n",
       "    }\n",
       "</style>\n",
       "<table border=\"1\" class=\"dataframe\">\n",
       "  <thead>\n",
       "    <tr style=\"text-align: right;\">\n",
       "      <th></th>\n",
       "      <th>ManagedAreaName</th>\n",
       "      <th>analysisunit</th>\n",
       "      <th>ParameterName</th>\n",
       "      <th>N_Programs</th>\n",
       "      <th>Programs</th>\n",
       "      <th>ProgramIDs</th>\n",
       "      <th>N_Data</th>\n",
       "      <th>N_Years</th>\n",
       "      <th>EarliestYear</th>\n",
       "      <th>LatestYear</th>\n",
       "      <th>SufficientData</th>\n",
       "      <th>analysisunit_halid</th>\n",
       "    </tr>\n",
       "  </thead>\n",
       "  <tbody>\n",
       "    <tr>\n",
       "      <th>0</th>\n",
       "      <td>Banana River</td>\n",
       "      <td>Drift algae</td>\n",
       "      <td>Frequency of occurrence</td>\n",
       "      <td>1</td>\n",
       "      <td>Seagrass (SJRWMD)</td>\n",
       "      <td>3013</td>\n",
       "      <td>5032</td>\n",
       "      <td>5032</td>\n",
       "      <td>1994.0</td>\n",
       "      <td>2022.0</td>\n",
       "      <td>True</td>\n",
       "      <td>NaN</td>\n",
       "    </tr>\n",
       "    <tr>\n",
       "      <th>1</th>\n",
       "      <td>Banana River</td>\n",
       "      <td>Halodule wrightii</td>\n",
       "      <td>Frequency of occurrence</td>\n",
       "      <td>1</td>\n",
       "      <td>Seagrass (SJRWMD)</td>\n",
       "      <td>3013</td>\n",
       "      <td>9842</td>\n",
       "      <td>9842</td>\n",
       "      <td>1994.0</td>\n",
       "      <td>2022.0</td>\n",
       "      <td>True</td>\n",
       "      <td>NaN</td>\n",
       "    </tr>\n",
       "    <tr>\n",
       "      <th>2</th>\n",
       "      <td>Banana River</td>\n",
       "      <td>Halophila spp.</td>\n",
       "      <td>Frequency of occurrence</td>\n",
       "      <td>1</td>\n",
       "      <td>Seagrass (SJRWMD)</td>\n",
       "      <td>3013</td>\n",
       "      <td>29597</td>\n",
       "      <td>29597</td>\n",
       "      <td>1994.0</td>\n",
       "      <td>2022.0</td>\n",
       "      <td>True</td>\n",
       "      <td>NaN</td>\n",
       "    </tr>\n",
       "    <tr>\n",
       "      <th>3</th>\n",
       "      <td>Banana River</td>\n",
       "      <td>Ruppia maritima</td>\n",
       "      <td>Frequency of occurrence</td>\n",
       "      <td>1</td>\n",
       "      <td>Seagrass (SJRWMD)</td>\n",
       "      <td>3013</td>\n",
       "      <td>9849</td>\n",
       "      <td>9849</td>\n",
       "      <td>1994.0</td>\n",
       "      <td>2022.0</td>\n",
       "      <td>True</td>\n",
       "      <td>NaN</td>\n",
       "    </tr>\n",
       "    <tr>\n",
       "      <th>4</th>\n",
       "      <td>Banana River</td>\n",
       "      <td>Syringodium filiforme</td>\n",
       "      <td>Frequency of occurrence</td>\n",
       "      <td>1</td>\n",
       "      <td>Seagrass (SJRWMD)</td>\n",
       "      <td>3013</td>\n",
       "      <td>9867</td>\n",
       "      <td>9867</td>\n",
       "      <td>1994.0</td>\n",
       "      <td>2022.0</td>\n",
       "      <td>True</td>\n",
       "      <td>NaN</td>\n",
       "    </tr>\n",
       "    <tr>\n",
       "      <th>...</th>\n",
       "      <td>...</td>\n",
       "      <td>...</td>\n",
       "      <td>...</td>\n",
       "      <td>...</td>\n",
       "      <td>...</td>\n",
       "      <td>...</td>\n",
       "      <td>...</td>\n",
       "      <td>...</td>\n",
       "      <td>...</td>\n",
       "      <td>...</td>\n",
       "      <td>...</td>\n",
       "      <td>...</td>\n",
       "    </tr>\n",
       "    <tr>\n",
       "      <th>187</th>\n",
       "      <td>Terra Ceia</td>\n",
       "      <td>Halodule wrightii</td>\n",
       "      <td>Frequency of occurrence</td>\n",
       "      <td>1</td>\n",
       "      <td>Tampa Bay Seagrass Monitoring</td>\n",
       "      <td>565</td>\n",
       "      <td>627</td>\n",
       "      <td>627</td>\n",
       "      <td>1999.0</td>\n",
       "      <td>2022.0</td>\n",
       "      <td>True</td>\n",
       "      <td>Halodule wrightii</td>\n",
       "    </tr>\n",
       "    <tr>\n",
       "      <th>188</th>\n",
       "      <td>Terra Ceia</td>\n",
       "      <td>Ruppia maritima</td>\n",
       "      <td>Frequency of occurrence</td>\n",
       "      <td>1</td>\n",
       "      <td>Tampa Bay Seagrass Monitoring</td>\n",
       "      <td>565</td>\n",
       "      <td>2</td>\n",
       "      <td>2</td>\n",
       "      <td>2016.0</td>\n",
       "      <td>2021.0</td>\n",
       "      <td>False</td>\n",
       "      <td>Ruppia maritima</td>\n",
       "    </tr>\n",
       "    <tr>\n",
       "      <th>189</th>\n",
       "      <td>Terra Ceia</td>\n",
       "      <td>Syringodium filiforme</td>\n",
       "      <td>Frequency of occurrence</td>\n",
       "      <td>1</td>\n",
       "      <td>Tampa Bay Seagrass Monitoring</td>\n",
       "      <td>565</td>\n",
       "      <td>492</td>\n",
       "      <td>492</td>\n",
       "      <td>1999.0</td>\n",
       "      <td>2022.0</td>\n",
       "      <td>True</td>\n",
       "      <td>Syringodium filiforme</td>\n",
       "    </tr>\n",
       "    <tr>\n",
       "      <th>190</th>\n",
       "      <td>Terra Ceia</td>\n",
       "      <td>Thalassia testudinum</td>\n",
       "      <td>Frequency of occurrence</td>\n",
       "      <td>1</td>\n",
       "      <td>Tampa Bay Seagrass Monitoring</td>\n",
       "      <td>565</td>\n",
       "      <td>1477</td>\n",
       "      <td>1477</td>\n",
       "      <td>1999.0</td>\n",
       "      <td>2022.0</td>\n",
       "      <td>True</td>\n",
       "      <td>Thalassia testudinum</td>\n",
       "    </tr>\n",
       "    <tr>\n",
       "      <th>191</th>\n",
       "      <td>Terra Ceia</td>\n",
       "      <td>Unidentified Halophila</td>\n",
       "      <td>Frequency of occurrence</td>\n",
       "      <td>1</td>\n",
       "      <td>Tampa Bay Seagrass Monitoring</td>\n",
       "      <td>565</td>\n",
       "      <td>3</td>\n",
       "      <td>3</td>\n",
       "      <td>2016.0</td>\n",
       "      <td>2021.0</td>\n",
       "      <td>False</td>\n",
       "      <td>Unidentified Halophila</td>\n",
       "    </tr>\n",
       "  </tbody>\n",
       "</table>\n",
       "<p>192 rows × 12 columns</p>\n",
       "</div>"
      ],
      "text/plain": [
       "    ManagedAreaName            analysisunit            ParameterName  \\\n",
       "0      Banana River             Drift algae  Frequency of occurrence   \n",
       "1      Banana River       Halodule wrightii  Frequency of occurrence   \n",
       "2      Banana River          Halophila spp.  Frequency of occurrence   \n",
       "3      Banana River         Ruppia maritima  Frequency of occurrence   \n",
       "4      Banana River   Syringodium filiforme  Frequency of occurrence   \n",
       "..              ...                     ...                      ...   \n",
       "187      Terra Ceia       Halodule wrightii  Frequency of occurrence   \n",
       "188      Terra Ceia         Ruppia maritima  Frequency of occurrence   \n",
       "189      Terra Ceia   Syringodium filiforme  Frequency of occurrence   \n",
       "190      Terra Ceia    Thalassia testudinum  Frequency of occurrence   \n",
       "191      Terra Ceia  Unidentified Halophila  Frequency of occurrence   \n",
       "\n",
       "     N_Programs                       Programs ProgramIDs  N_Data  N_Years  \\\n",
       "0             1              Seagrass (SJRWMD)       3013    5032     5032   \n",
       "1             1              Seagrass (SJRWMD)       3013    9842     9842   \n",
       "2             1              Seagrass (SJRWMD)       3013   29597    29597   \n",
       "3             1              Seagrass (SJRWMD)       3013    9849     9849   \n",
       "4             1              Seagrass (SJRWMD)       3013    9867     9867   \n",
       "..          ...                            ...        ...     ...      ...   \n",
       "187           1  Tampa Bay Seagrass Monitoring        565     627      627   \n",
       "188           1  Tampa Bay Seagrass Monitoring        565       2        2   \n",
       "189           1  Tampa Bay Seagrass Monitoring        565     492      492   \n",
       "190           1  Tampa Bay Seagrass Monitoring        565    1477     1477   \n",
       "191           1  Tampa Bay Seagrass Monitoring        565       3        3   \n",
       "\n",
       "     EarliestYear  LatestYear  SufficientData      analysisunit_halid  \n",
       "0          1994.0      2022.0            True                     NaN  \n",
       "1          1994.0      2022.0            True                     NaN  \n",
       "2          1994.0      2022.0            True                     NaN  \n",
       "3          1994.0      2022.0            True                     NaN  \n",
       "4          1994.0      2022.0            True                     NaN  \n",
       "..            ...         ...             ...                     ...  \n",
       "187        1999.0      2022.0            True       Halodule wrightii  \n",
       "188        2016.0      2021.0           False         Ruppia maritima  \n",
       "189        1999.0      2022.0            True   Syringodium filiforme  \n",
       "190        1999.0      2022.0            True    Thalassia testudinum  \n",
       "191        2016.0      2021.0           False  Unidentified Halophila  \n",
       "\n",
       "[192 rows x 12 columns]"
      ]
     },
     "execution_count": 135,
     "metadata": {},
     "output_type": "execute_result"
    }
   ],
   "source": [
    "stats_pa"
   ]
  },
  {
   "cell_type": "code",
   "execution_count": null,
   "id": "b74cceba",
   "metadata": {},
   "outputs": [],
   "source": []
  },
  {
   "cell_type": "code",
   "execution_count": null,
   "id": "ae870604",
   "metadata": {},
   "outputs": [],
   "source": []
  },
  {
   "cell_type": "code",
   "execution_count": null,
   "id": "18d79bb3",
   "metadata": {},
   "outputs": [],
   "source": []
  },
  {
   "cell_type": "code",
   "execution_count": 38,
   "id": "bedab787",
   "metadata": {},
   "outputs": [],
   "source": [
    "# def rotate_sf(data, x_add=0, y_add=0, ma=None, coast=\"Atlantic\"):\n",
    "#     def shear_matrix(x):\n",
    "#         if coast == \"Atlantic\":\n",
    "#             if np.unique(ma) in [\"Banana River\", \"Indian River-Malabar to Vero Beach\",\n",
    "#                                  \"Indian River-Vero Beach to Ft. Pierce\", \"Jensen Beach to Jupiter Inlet\",\n",
    "#                                  \"Mosquito Lagoon\"]:\n",
    "#                 return np.array([[1, 1.2], [0, 1]])\n",
    "#             else:\n",
    "#                 return np.array([[2, 1.2], [0, 1]])\n",
    "#         else:\n",
    "#             return np.array([[2, -1.2], [0, 1]])\n",
    "    \n",
    "#     def rotate_matrix(x):\n",
    "#         return np.array([[np.cos(x), np.sin(x)], [-np.sin(x), np.cos(x)]])\n",
    "    \n",
    "#     if coast == \"Atlantic\":\n",
    "#         if np.unique(ma) in [\"Banana River\", \"Indian River-Malabar to Vero Beach\",\n",
    "#                              \"Indian River-Vero Beach to Ft. Pierce\", \"Jensen Beach to Jupiter Inlet\",\n",
    "#                              \"Mosquito Lagoon\"]:\n",
    "#             data['geometry'] = data['geometry'] * shear_matrix(0) * rotate_matrix(np.pi * 0.2) + [x_add, y_add]\n",
    "#         else:\n",
    "#             data['geometry'] = data['geometry'] * shear_matrix(0) * rotate_matrix(np.pi / 20) + [x_add, y_add]\n",
    "#     else:\n",
    "#         data['geometry'] = data['geometry'] * shear_matrix(0) * rotate_matrix(np.pi * 1.98) + [x_add, y_add]\n",
    "    \n",
    "#     return data"
   ]
  },
  {
   "cell_type": "code",
   "execution_count": 39,
   "id": "64057619",
   "metadata": {},
   "outputs": [],
   "source": [
    "# import geopandas as gpd\n",
    "\n",
    "# # Create model objects, tables, and plots for all MAs with >5 yrs of data\n",
    "# # Load geospatial data\n",
    "# GeoDBdate = \"6june2023\"\n",
    "# locs_pts = gpd.read_file(f\"SAV/mapping/SampleLocations{GeoDBdate}/seacar_dbo_vw_SampleLocation_Point.shp\")\n",
    "# locs_lns = gpd.read_file(f\"SAV/mapping/SampleLocations{GeoDBdate}/seacar_dbo_vw_SampleLocation_Line.shp\")\n",
    "# rcp = gpd.read_file(\"SAV/mapping/orcp_all_sites/orcp_all_sites/ORCP_Managed_Areas.shp\")\n",
    "# counties = gpd.read_file(\"SAV/mapping/FLCounties/Counties_-_Detailed_Shoreline.shp\")\n",
    "# corners = pd.read_csv(\"SAV/mapping/MApolygons_corners.csv\")\n",
    "\n",
    "# # Add 20% of difference (xmax-xmin) to xmax to help prevent year labels from getting cut off map images and 10% to ymax\n",
    "# corners[\"xmax\"] = corners[\"xmax\"] + (corners[\"xmax\"] - corners[\"xmin\"]) * 0.25\n",
    "# corners[\"ymax\"] = corners[\"ymax\"] + (corners[\"ymax\"] - corners[\"ymin\"]) * 0.1\n",
    "\n",
    "# # Make geometries valid\n",
    "# locs_pts = make_valid(locs_pts)\n",
    "# locs_lns = make_valid(locs_lns)\n",
    "# rcp = make_valid(rcp)\n",
    "# counties = make_valid(counties)\n",
    "\n",
    "# # Transform geometries to CRS 4326\n",
    "# locs_pts = locs_pts.to_crs(4326)\n",
    "# locs_lns = locs_lns.to_crs(4326)\n",
    "# rcp = rcp.to_crs(4326)\n",
    "# counties = counties.to_crs(4326)\n",
    "\n",
    "# # Perform spatial intersection\n",
    "# locs_pts_rcp = gpd.sjoin(locs_pts, rcp, op=\"intersects\")\n",
    "# locs_lns_rcp = gpd.sjoin(locs_lns, rcp, op=\"intersects\")\n",
    "\n",
    "# # Merge with pnames\n",
    "# pnames = SAV4.groupby([\"ProgramID\", \"ProgramName\"]).size().reset_index().rename(columns={0: \"Count\"})\n",
    "# locs_pts_rcp = locs_pts_rcp.merge(pnames, on=\"ProgramID\", how=\"left\")\n",
    "# locs_lns_rcp = locs_lns_rcp.merge(pnames, on=\"ProgramID\", how=\"left\")"
   ]
  },
  {
   "cell_type": "code",
   "execution_count": null,
   "id": "03742a69",
   "metadata": {},
   "outputs": [],
   "source": []
  }
 ],
 "metadata": {
  "kernelspec": {
   "display_name": "Python 3 (ipykernel)",
   "language": "python",
   "name": "python3"
  },
  "language_info": {
   "codemirror_mode": {
    "name": "ipython",
    "version": 3
   },
   "file_extension": ".py",
   "mimetype": "text/x-python",
   "name": "python",
   "nbconvert_exporter": "python",
   "pygments_lexer": "ipython3",
   "version": "3.11.4"
  }
 },
 "nbformat": 4,
 "nbformat_minor": 5
}
